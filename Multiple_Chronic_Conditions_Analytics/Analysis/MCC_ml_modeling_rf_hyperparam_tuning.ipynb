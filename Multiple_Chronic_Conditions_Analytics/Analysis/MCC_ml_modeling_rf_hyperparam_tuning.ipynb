{
 "cells": [
  {
   "cell_type": "markdown",
   "id": "b18771d0-bd15-4dcb-82ad-30e11cd6daea",
   "metadata": {},
   "source": [
    "## Multiple Chronic Conditions Machine Learning Modeling"
   ]
  },
  {
   "cell_type": "markdown",
   "id": "f72d281a-8de3-4924-a890-a65cf23aa3f2",
   "metadata": {},
   "source": [
    "### Import relevant libraries"
   ]
  },
  {
   "cell_type": "code",
   "execution_count": 27,
   "id": "3010c4b0-95a0-4298-95e9-f39a8b520e1f",
   "metadata": {},
   "outputs": [],
   "source": [
    "import numpy as np\n",
    "import pandas as pd\n",
    "import matplotlib.pyplot as plt\n",
    "import seaborn as sns\n",
    "import hvplot.pandas\n",
    "\n",
    "from sklearn.model_selection import train_test_split, RandomizedSearchCV\n",
    "from sklearn.ensemble import RandomForestRegressor\n",
    "from lightgbm import LGBMRegressor\n",
    "from xgboost import XGBRegressor\n",
    "from sklearn.metrics import r2_score, mean_absolute_error"
   ]
  },
  {
   "cell_type": "markdown",
   "id": "5fccbad4-3195-4648-9587-8e23c6e0a4c3",
   "metadata": {},
   "source": [
    "##### Exclude XGBOOST and LGBM from Lazypredict assessment"
   ]
  },
  {
   "cell_type": "code",
   "execution_count": 2,
   "id": "1104812f-fbb6-4ab9-a90c-9509f363b7ac",
   "metadata": {},
   "outputs": [],
   "source": [
    "from lazypredict import Supervised\n",
    "Supervised.REGRESSORS.pop(40)\n",
    "Supervised.REGRESSORS.pop(40)\n",
    "LazyRegressor = Supervised.LazyRegressor"
   ]
  },
  {
   "cell_type": "markdown",
   "id": "d26d39a2-f890-448c-b5e3-9824a18ab7e0",
   "metadata": {},
   "source": [
    "### Load MCC Datasets"
   ]
  },
  {
   "cell_type": "code",
   "execution_count": 3,
   "id": "ecce1cf9-0ff7-4de3-ace5-93f61b0a9819",
   "metadata": {},
   "outputs": [],
   "source": [
    "# Load MCC specific data\n",
    "mcc_df = pd.read_csv(\"ml_processed_mcc_data_2017_2018.csv\")"
   ]
  },
  {
   "cell_type": "markdown",
   "id": "64b9e70f-ad56-44eb-87cb-0d88e3e810d9",
   "metadata": {},
   "source": [
    "### Data Exploration"
   ]
  },
  {
   "cell_type": "code",
   "execution_count": 4,
   "id": "aa749abd-bdab-4b7d-a032-b4f869098a51",
   "metadata": {},
   "outputs": [
    {
     "name": "stdout",
     "output_type": "stream",
     "text": [
      "<class 'pandas.core.frame.DataFrame'>\n",
      "RangeIndex: 5858 entries, 0 to 5857\n",
      "Data columns (total 22 columns):\n",
      " #   Column                    Non-Null Count  Dtype  \n",
      "---  ------                    --------------  -----  \n",
      " 0   Bene_Geo_Lvl              5858 non-null   object \n",
      " 1   Bene_Geo_Desc             5858 non-null   object \n",
      " 2   Bene_Geo_Cd               5786 non-null   float64\n",
      " 3   Bene_Age_Lvl              5858 non-null   object \n",
      " 4   Bene_Demo_Lvl             5858 non-null   object \n",
      " 5   Bene_Demo_Desc            5858 non-null   object \n",
      " 6   Bene_MCC                  5858 non-null   object \n",
      " 7   Prvlnc                    5858 non-null   float64\n",
      " 8   Tot_Mdcr_Stdzd_Pymt_PC    5858 non-null   float64\n",
      " 9   Tot_Mdcr_Pymt_PC          5858 non-null   float64\n",
      " 10  Hosp_Readmsn_Rate         5858 non-null   float64\n",
      " 11  ER_Visits_Per_1000_Benes  5710 non-null   float64\n",
      " 12  year                      5858 non-null   int64  \n",
      " 13  Age_Group                 5858 non-null   int64  \n",
      " 14  Sex                       5858 non-null   int64  \n",
      " 15  Medicare_Type             5858 non-null   int64  \n",
      " 16  Non-Hispanic_White        5858 non-null   int64  \n",
      " 17  Non-Hispanic_Black        5858 non-null   int64  \n",
      " 18  Hispanic                  5858 non-null   int64  \n",
      " 19  Asian_Pacific_Islander    5858 non-null   int64  \n",
      " 20  Native_American           5858 non-null   int64  \n",
      " 21  MCC_Group                 5858 non-null   int64  \n",
      "dtypes: float64(6), int64(10), object(6)\n",
      "memory usage: 1007.0+ KB\n"
     ]
    }
   ],
   "source": [
    "mcc_df.info()"
   ]
  },
  {
   "cell_type": "code",
   "execution_count": 5,
   "id": "f4d09e89-7757-4e2f-917a-35c09ee86ad0",
   "metadata": {},
   "outputs": [
    {
     "data": {
      "text/html": [
       "<div>\n",
       "<style scoped>\n",
       "    .dataframe tbody tr th:only-of-type {\n",
       "        vertical-align: middle;\n",
       "    }\n",
       "\n",
       "    .dataframe tbody tr th {\n",
       "        vertical-align: top;\n",
       "    }\n",
       "\n",
       "    .dataframe thead th {\n",
       "        text-align: right;\n",
       "    }\n",
       "</style>\n",
       "<table border=\"1\" class=\"dataframe\">\n",
       "  <thead>\n",
       "    <tr style=\"text-align: right;\">\n",
       "      <th></th>\n",
       "      <th>Bene_Geo_Lvl</th>\n",
       "      <th>Bene_Geo_Desc</th>\n",
       "      <th>Bene_Geo_Cd</th>\n",
       "      <th>Bene_Age_Lvl</th>\n",
       "      <th>Bene_Demo_Lvl</th>\n",
       "      <th>Bene_Demo_Desc</th>\n",
       "      <th>Bene_MCC</th>\n",
       "      <th>Prvlnc</th>\n",
       "      <th>Tot_Mdcr_Stdzd_Pymt_PC</th>\n",
       "      <th>Tot_Mdcr_Pymt_PC</th>\n",
       "      <th>...</th>\n",
       "      <th>year</th>\n",
       "      <th>Age_Group</th>\n",
       "      <th>Sex</th>\n",
       "      <th>Medicare_Type</th>\n",
       "      <th>Non-Hispanic_White</th>\n",
       "      <th>Non-Hispanic_Black</th>\n",
       "      <th>Hispanic</th>\n",
       "      <th>Asian_Pacific_Islander</th>\n",
       "      <th>Native_American</th>\n",
       "      <th>MCC_Group</th>\n",
       "    </tr>\n",
       "  </thead>\n",
       "  <tbody>\n",
       "    <tr>\n",
       "      <th>0</th>\n",
       "      <td>State</td>\n",
       "      <td>Alabama</td>\n",
       "      <td>1.00</td>\n",
       "      <td>65+</td>\n",
       "      <td>Dual Status</td>\n",
       "      <td>Medicare Only</td>\n",
       "      <td>0 to 1</td>\n",
       "      <td>0.25</td>\n",
       "      <td>1982.66</td>\n",
       "      <td>1790.60</td>\n",
       "      <td>...</td>\n",
       "      <td>2017</td>\n",
       "      <td>1</td>\n",
       "      <td>-1</td>\n",
       "      <td>0</td>\n",
       "      <td>-1</td>\n",
       "      <td>-1</td>\n",
       "      <td>-1</td>\n",
       "      <td>-1</td>\n",
       "      <td>-1</td>\n",
       "      <td>0</td>\n",
       "    </tr>\n",
       "    <tr>\n",
       "      <th>1</th>\n",
       "      <td>State</td>\n",
       "      <td>Alabama</td>\n",
       "      <td>1.00</td>\n",
       "      <td>65+</td>\n",
       "      <td>Dual Status</td>\n",
       "      <td>Medicare Only</td>\n",
       "      <td>2 to 3</td>\n",
       "      <td>0.30</td>\n",
       "      <td>5113.12</td>\n",
       "      <td>4665.47</td>\n",
       "      <td>...</td>\n",
       "      <td>2017</td>\n",
       "      <td>1</td>\n",
       "      <td>-1</td>\n",
       "      <td>0</td>\n",
       "      <td>-1</td>\n",
       "      <td>-1</td>\n",
       "      <td>-1</td>\n",
       "      <td>-1</td>\n",
       "      <td>-1</td>\n",
       "      <td>1</td>\n",
       "    </tr>\n",
       "    <tr>\n",
       "      <th>2</th>\n",
       "      <td>State</td>\n",
       "      <td>Alabama</td>\n",
       "      <td>1.00</td>\n",
       "      <td>65+</td>\n",
       "      <td>Dual Status</td>\n",
       "      <td>Medicare Only</td>\n",
       "      <td>4 to 5</td>\n",
       "      <td>0.26</td>\n",
       "      <td>9650.47</td>\n",
       "      <td>8806.65</td>\n",
       "      <td>...</td>\n",
       "      <td>2017</td>\n",
       "      <td>1</td>\n",
       "      <td>-1</td>\n",
       "      <td>0</td>\n",
       "      <td>-1</td>\n",
       "      <td>-1</td>\n",
       "      <td>-1</td>\n",
       "      <td>-1</td>\n",
       "      <td>-1</td>\n",
       "      <td>2</td>\n",
       "    </tr>\n",
       "    <tr>\n",
       "      <th>3</th>\n",
       "      <td>State</td>\n",
       "      <td>Alabama</td>\n",
       "      <td>1.00</td>\n",
       "      <td>65+</td>\n",
       "      <td>Dual Status</td>\n",
       "      <td>Medicare Only</td>\n",
       "      <td>6+</td>\n",
       "      <td>0.19</td>\n",
       "      <td>26061.12</td>\n",
       "      <td>23776.42</td>\n",
       "      <td>...</td>\n",
       "      <td>2017</td>\n",
       "      <td>1</td>\n",
       "      <td>-1</td>\n",
       "      <td>0</td>\n",
       "      <td>-1</td>\n",
       "      <td>-1</td>\n",
       "      <td>-1</td>\n",
       "      <td>-1</td>\n",
       "      <td>-1</td>\n",
       "      <td>3</td>\n",
       "    </tr>\n",
       "    <tr>\n",
       "      <th>4</th>\n",
       "      <td>State</td>\n",
       "      <td>Alabama</td>\n",
       "      <td>1.00</td>\n",
       "      <td>65+</td>\n",
       "      <td>Dual Status</td>\n",
       "      <td>Medicare and Medicaid</td>\n",
       "      <td>2 to 3</td>\n",
       "      <td>0.22</td>\n",
       "      <td>5864.61</td>\n",
       "      <td>5306.28</td>\n",
       "      <td>...</td>\n",
       "      <td>2017</td>\n",
       "      <td>1</td>\n",
       "      <td>-1</td>\n",
       "      <td>1</td>\n",
       "      <td>-1</td>\n",
       "      <td>-1</td>\n",
       "      <td>-1</td>\n",
       "      <td>-1</td>\n",
       "      <td>-1</td>\n",
       "      <td>1</td>\n",
       "    </tr>\n",
       "  </tbody>\n",
       "</table>\n",
       "<p>5 rows × 22 columns</p>\n",
       "</div>"
      ],
      "text/plain": [
       "  Bene_Geo_Lvl Bene_Geo_Desc  Bene_Geo_Cd Bene_Age_Lvl Bene_Demo_Lvl  \\\n",
       "0        State       Alabama         1.00          65+   Dual Status   \n",
       "1        State       Alabama         1.00          65+   Dual Status   \n",
       "2        State       Alabama         1.00          65+   Dual Status   \n",
       "3        State       Alabama         1.00          65+   Dual Status   \n",
       "4        State       Alabama         1.00          65+   Dual Status   \n",
       "\n",
       "          Bene_Demo_Desc Bene_MCC  Prvlnc  Tot_Mdcr_Stdzd_Pymt_PC  \\\n",
       "0          Medicare Only   0 to 1    0.25                 1982.66   \n",
       "1          Medicare Only   2 to 3    0.30                 5113.12   \n",
       "2          Medicare Only   4 to 5    0.26                 9650.47   \n",
       "3          Medicare Only       6+    0.19                26061.12   \n",
       "4  Medicare and Medicaid   2 to 3    0.22                 5864.61   \n",
       "\n",
       "   Tot_Mdcr_Pymt_PC  ...  year  Age_Group  Sex  Medicare_Type  \\\n",
       "0           1790.60  ...  2017          1   -1              0   \n",
       "1           4665.47  ...  2017          1   -1              0   \n",
       "2           8806.65  ...  2017          1   -1              0   \n",
       "3          23776.42  ...  2017          1   -1              0   \n",
       "4           5306.28  ...  2017          1   -1              1   \n",
       "\n",
       "   Non-Hispanic_White  Non-Hispanic_Black  Hispanic  Asian_Pacific_Islander  \\\n",
       "0                  -1                  -1        -1                      -1   \n",
       "1                  -1                  -1        -1                      -1   \n",
       "2                  -1                  -1        -1                      -1   \n",
       "3                  -1                  -1        -1                      -1   \n",
       "4                  -1                  -1        -1                      -1   \n",
       "\n",
       "   Native_American  MCC_Group  \n",
       "0               -1          0  \n",
       "1               -1          1  \n",
       "2               -1          2  \n",
       "3               -1          3  \n",
       "4               -1          1  \n",
       "\n",
       "[5 rows x 22 columns]"
      ]
     },
     "execution_count": 5,
     "metadata": {},
     "output_type": "execute_result"
    }
   ],
   "source": [
    "mcc_df.head()"
   ]
  },
  {
   "cell_type": "markdown",
   "id": "7845f62b-370c-4a24-a92d-bf47146ed334",
   "metadata": {},
   "source": [
    "### ML Modeling"
   ]
  },
  {
   "cell_type": "markdown",
   "id": "d21836cf-7af1-4431-848b-db4cbb980ada",
   "metadata": {},
   "source": [
    "#### Create data splits"
   ]
  },
  {
   "cell_type": "code",
   "execution_count": 6,
   "id": "b83aca97-eb42-4952-b82c-44106472988d",
   "metadata": {},
   "outputs": [],
   "source": [
    "X = mcc_df.drop('Hosp_Readmsn_Rate', axis=1).copy()\n",
    "y = mcc_df['Hosp_Readmsn_Rate'].copy()"
   ]
  },
  {
   "cell_type": "code",
   "execution_count": 7,
   "id": "5d992ceb-70b4-4b78-9225-6e7b1a3d41ce",
   "metadata": {},
   "outputs": [],
   "source": [
    "# Create main split of data\n",
    "X_train, X_test, y_train, y_test = train_test_split(X, y, test_size=0.2, random_state=50)"
   ]
  },
  {
   "cell_type": "code",
   "execution_count": 8,
   "id": "069d562d-251d-4696-85f6-8f0db2fa4466",
   "metadata": {},
   "outputs": [],
   "source": [
    "# Create second split using initial training data\n",
    "XX_train, XX_test, yy_train, yy_test = train_test_split(X_train, y_train, test_size=0.15, random_state=50)"
   ]
  },
  {
   "cell_type": "code",
   "execution_count": 9,
   "id": "dad28f39-a549-4c22-aefa-0e999bf4c344",
   "metadata": {},
   "outputs": [
    {
     "data": {
      "text/plain": [
       "(4686, 21)"
      ]
     },
     "execution_count": 9,
     "metadata": {},
     "output_type": "execute_result"
    }
   ],
   "source": [
    "X_train.shape"
   ]
  },
  {
   "cell_type": "code",
   "execution_count": 10,
   "id": "2b240da1-03a4-4c74-b697-60176be26984",
   "metadata": {},
   "outputs": [
    {
     "data": {
      "text/plain": [
       "(3983, 21)"
      ]
     },
     "execution_count": 10,
     "metadata": {},
     "output_type": "execute_result"
    }
   ],
   "source": [
    "XX_train.shape"
   ]
  },
  {
   "cell_type": "markdown",
   "id": "c8fb2379-ea8d-4677-ad36-19c3576f0782",
   "metadata": {},
   "source": [
    "#### Define input features"
   ]
  },
  {
   "cell_type": "code",
   "execution_count": 11,
   "id": "bd575c81-11e2-4b94-b47c-547e9525b8b3",
   "metadata": {},
   "outputs": [],
   "source": [
    "ml_input_feats = ['Age_Group', 'Sex', 'Medicare_Type', 'Non-Hispanic_White', 'Non-Hispanic_Black', 'Hispanic', 'Native_American', 'MCC_Group']"
   ]
  },
  {
   "cell_type": "markdown",
   "id": "98b16679-1793-46dc-8468-85e02cbcfeff",
   "metadata": {},
   "source": [
    "#### Algorithm selection"
   ]
  },
  {
   "cell_type": "code",
   "execution_count": 12,
   "id": "b0daf024-bc1f-48b8-ac51-676359d6cab3",
   "metadata": {},
   "outputs": [],
   "source": [
    "reg = LazyRegressor(verbose=-1, ignore_warnings=False, custom_metric=None, random_state=50)"
   ]
  },
  {
   "cell_type": "code",
   "execution_count": 13,
   "id": "96823733-6f3d-4fb1-bf1e-5c8c94d833ab",
   "metadata": {},
   "outputs": [
    {
     "name": "stderr",
     "output_type": "stream",
     "text": [
      " 18%|█▊        | 7/40 [00:00<00:00, 66.28it/s]"
     ]
    },
    {
     "name": "stdout",
     "output_type": "stream",
     "text": [
      "GammaRegressor model failed to execute\n",
      "Some value(s) of y are out of the valid range of the loss 'HalfGammaLoss'.\n"
     ]
    },
    {
     "name": "stderr",
     "output_type": "stream",
     "text": [
      " 85%|████████▌ | 34/40 [00:03<00:00, 12.47it/s]"
     ]
    },
    {
     "name": "stdout",
     "output_type": "stream",
     "text": [
      "QuantileRegressor model failed to execute\n",
      "Solver interior-point is not anymore available in SciPy >= 1.11.0.\n"
     ]
    },
    {
     "name": "stderr",
     "output_type": "stream",
     "text": [
      "100%|██████████| 40/40 [00:03<00:00, 13.01it/s]"
     ]
    },
    {
     "name": "stdout",
     "output_type": "stream",
     "text": [
      "CPU times: user 20.3 s, sys: 11.2 s, total: 31.5 s\n",
      "Wall time: 3.1 s\n"
     ]
    },
    {
     "name": "stderr",
     "output_type": "stream",
     "text": [
      "\n"
     ]
    }
   ],
   "source": [
    "%%time\n",
    "results, _ = reg.fit(XX_train[ml_input_feats], XX_test[ml_input_feats], yy_train, yy_test)"
   ]
  },
  {
   "cell_type": "code",
   "execution_count": 14,
   "id": "a0f53fea-fd8c-4264-9ce9-11aadd1e5bd6",
   "metadata": {},
   "outputs": [
    {
     "data": {
      "text/html": [
       "<div>\n",
       "<style scoped>\n",
       "    .dataframe tbody tr th:only-of-type {\n",
       "        vertical-align: middle;\n",
       "    }\n",
       "\n",
       "    .dataframe tbody tr th {\n",
       "        vertical-align: top;\n",
       "    }\n",
       "\n",
       "    .dataframe thead th {\n",
       "        text-align: right;\n",
       "    }\n",
       "</style>\n",
       "<table border=\"1\" class=\"dataframe\">\n",
       "  <thead>\n",
       "    <tr style=\"text-align: right;\">\n",
       "      <th></th>\n",
       "      <th>Adjusted R-Squared</th>\n",
       "      <th>R-Squared</th>\n",
       "      <th>RMSE</th>\n",
       "      <th>Time Taken</th>\n",
       "    </tr>\n",
       "    <tr>\n",
       "      <th>Model</th>\n",
       "      <th></th>\n",
       "      <th></th>\n",
       "      <th></th>\n",
       "      <th></th>\n",
       "    </tr>\n",
       "  </thead>\n",
       "  <tbody>\n",
       "    <tr>\n",
       "      <th>HistGradientBoostingRegressor</th>\n",
       "      <td>0.90</td>\n",
       "      <td>0.90</td>\n",
       "      <td>0.03</td>\n",
       "      <td>0.50</td>\n",
       "    </tr>\n",
       "    <tr>\n",
       "      <th>ExtraTreesRegressor</th>\n",
       "      <td>0.90</td>\n",
       "      <td>0.90</td>\n",
       "      <td>0.03</td>\n",
       "      <td>0.15</td>\n",
       "    </tr>\n",
       "    <tr>\n",
       "      <th>DecisionTreeRegressor</th>\n",
       "      <td>0.90</td>\n",
       "      <td>0.90</td>\n",
       "      <td>0.03</td>\n",
       "      <td>0.00</td>\n",
       "    </tr>\n",
       "    <tr>\n",
       "      <th>ExtraTreeRegressor</th>\n",
       "      <td>0.90</td>\n",
       "      <td>0.90</td>\n",
       "      <td>0.03</td>\n",
       "      <td>0.01</td>\n",
       "    </tr>\n",
       "    <tr>\n",
       "      <th>GaussianProcessRegressor</th>\n",
       "      <td>0.90</td>\n",
       "      <td>0.90</td>\n",
       "      <td>0.03</td>\n",
       "      <td>0.65</td>\n",
       "    </tr>\n",
       "    <tr>\n",
       "      <th>RandomForestRegressor</th>\n",
       "      <td>0.90</td>\n",
       "      <td>0.90</td>\n",
       "      <td>0.03</td>\n",
       "      <td>0.15</td>\n",
       "    </tr>\n",
       "    <tr>\n",
       "      <th>BaggingRegressor</th>\n",
       "      <td>0.89</td>\n",
       "      <td>0.90</td>\n",
       "      <td>0.03</td>\n",
       "      <td>0.02</td>\n",
       "    </tr>\n",
       "    <tr>\n",
       "      <th>NuSVR</th>\n",
       "      <td>0.89</td>\n",
       "      <td>0.89</td>\n",
       "      <td>0.03</td>\n",
       "      <td>0.54</td>\n",
       "    </tr>\n",
       "    <tr>\n",
       "      <th>GradientBoostingRegressor</th>\n",
       "      <td>0.89</td>\n",
       "      <td>0.89</td>\n",
       "      <td>0.03</td>\n",
       "      <td>0.11</td>\n",
       "    </tr>\n",
       "    <tr>\n",
       "      <th>MLPRegressor</th>\n",
       "      <td>0.88</td>\n",
       "      <td>0.89</td>\n",
       "      <td>0.03</td>\n",
       "      <td>0.11</td>\n",
       "    </tr>\n",
       "    <tr>\n",
       "      <th>KNeighborsRegressor</th>\n",
       "      <td>0.88</td>\n",
       "      <td>0.88</td>\n",
       "      <td>0.03</td>\n",
       "      <td>0.02</td>\n",
       "    </tr>\n",
       "    <tr>\n",
       "      <th>AdaBoostRegressor</th>\n",
       "      <td>0.82</td>\n",
       "      <td>0.82</td>\n",
       "      <td>0.04</td>\n",
       "      <td>0.05</td>\n",
       "    </tr>\n",
       "    <tr>\n",
       "      <th>OrthogonalMatchingPursuitCV</th>\n",
       "      <td>0.78</td>\n",
       "      <td>0.79</td>\n",
       "      <td>0.04</td>\n",
       "      <td>0.01</td>\n",
       "    </tr>\n",
       "    <tr>\n",
       "      <th>TransformedTargetRegressor</th>\n",
       "      <td>0.78</td>\n",
       "      <td>0.79</td>\n",
       "      <td>0.04</td>\n",
       "      <td>0.00</td>\n",
       "    </tr>\n",
       "    <tr>\n",
       "      <th>LinearRegression</th>\n",
       "      <td>0.78</td>\n",
       "      <td>0.79</td>\n",
       "      <td>0.04</td>\n",
       "      <td>0.00</td>\n",
       "    </tr>\n",
       "    <tr>\n",
       "      <th>LassoLarsCV</th>\n",
       "      <td>0.78</td>\n",
       "      <td>0.79</td>\n",
       "      <td>0.04</td>\n",
       "      <td>0.01</td>\n",
       "    </tr>\n",
       "    <tr>\n",
       "      <th>LassoLarsIC</th>\n",
       "      <td>0.78</td>\n",
       "      <td>0.79</td>\n",
       "      <td>0.04</td>\n",
       "      <td>0.01</td>\n",
       "    </tr>\n",
       "    <tr>\n",
       "      <th>Ridge</th>\n",
       "      <td>0.78</td>\n",
       "      <td>0.79</td>\n",
       "      <td>0.04</td>\n",
       "      <td>0.01</td>\n",
       "    </tr>\n",
       "    <tr>\n",
       "      <th>RidgeCV</th>\n",
       "      <td>0.78</td>\n",
       "      <td>0.79</td>\n",
       "      <td>0.04</td>\n",
       "      <td>0.01</td>\n",
       "    </tr>\n",
       "    <tr>\n",
       "      <th>LassoCV</th>\n",
       "      <td>0.78</td>\n",
       "      <td>0.79</td>\n",
       "      <td>0.04</td>\n",
       "      <td>0.05</td>\n",
       "    </tr>\n",
       "    <tr>\n",
       "      <th>ElasticNetCV</th>\n",
       "      <td>0.78</td>\n",
       "      <td>0.79</td>\n",
       "      <td>0.04</td>\n",
       "      <td>0.03</td>\n",
       "    </tr>\n",
       "    <tr>\n",
       "      <th>BayesianRidge</th>\n",
       "      <td>0.78</td>\n",
       "      <td>0.79</td>\n",
       "      <td>0.04</td>\n",
       "      <td>0.00</td>\n",
       "    </tr>\n",
       "    <tr>\n",
       "      <th>SGDRegressor</th>\n",
       "      <td>0.78</td>\n",
       "      <td>0.78</td>\n",
       "      <td>0.04</td>\n",
       "      <td>0.01</td>\n",
       "    </tr>\n",
       "    <tr>\n",
       "      <th>LinearSVR</th>\n",
       "      <td>0.78</td>\n",
       "      <td>0.78</td>\n",
       "      <td>0.04</td>\n",
       "      <td>0.08</td>\n",
       "    </tr>\n",
       "    <tr>\n",
       "      <th>HuberRegressor</th>\n",
       "      <td>0.78</td>\n",
       "      <td>0.78</td>\n",
       "      <td>0.04</td>\n",
       "      <td>0.02</td>\n",
       "    </tr>\n",
       "    <tr>\n",
       "      <th>LarsCV</th>\n",
       "      <td>0.77</td>\n",
       "      <td>0.77</td>\n",
       "      <td>0.04</td>\n",
       "      <td>0.01</td>\n",
       "    </tr>\n",
       "    <tr>\n",
       "      <th>Lars</th>\n",
       "      <td>0.76</td>\n",
       "      <td>0.76</td>\n",
       "      <td>0.04</td>\n",
       "      <td>0.01</td>\n",
       "    </tr>\n",
       "    <tr>\n",
       "      <th>RANSACRegressor</th>\n",
       "      <td>0.76</td>\n",
       "      <td>0.76</td>\n",
       "      <td>0.04</td>\n",
       "      <td>0.02</td>\n",
       "    </tr>\n",
       "    <tr>\n",
       "      <th>PassiveAggressiveRegressor</th>\n",
       "      <td>0.70</td>\n",
       "      <td>0.71</td>\n",
       "      <td>0.05</td>\n",
       "      <td>0.00</td>\n",
       "    </tr>\n",
       "    <tr>\n",
       "      <th>SVR</th>\n",
       "      <td>0.70</td>\n",
       "      <td>0.71</td>\n",
       "      <td>0.05</td>\n",
       "      <td>0.02</td>\n",
       "    </tr>\n",
       "    <tr>\n",
       "      <th>OrthogonalMatchingPursuit</th>\n",
       "      <td>0.68</td>\n",
       "      <td>0.69</td>\n",
       "      <td>0.05</td>\n",
       "      <td>0.00</td>\n",
       "    </tr>\n",
       "    <tr>\n",
       "      <th>TweedieRegressor</th>\n",
       "      <td>0.56</td>\n",
       "      <td>0.57</td>\n",
       "      <td>0.06</td>\n",
       "      <td>0.02</td>\n",
       "    </tr>\n",
       "    <tr>\n",
       "      <th>PoissonRegressor</th>\n",
       "      <td>0.15</td>\n",
       "      <td>0.16</td>\n",
       "      <td>0.08</td>\n",
       "      <td>0.03</td>\n",
       "    </tr>\n",
       "    <tr>\n",
       "      <th>Lasso</th>\n",
       "      <td>-0.02</td>\n",
       "      <td>-0.01</td>\n",
       "      <td>0.09</td>\n",
       "      <td>0.01</td>\n",
       "    </tr>\n",
       "    <tr>\n",
       "      <th>ElasticNet</th>\n",
       "      <td>-0.02</td>\n",
       "      <td>-0.01</td>\n",
       "      <td>0.09</td>\n",
       "      <td>0.00</td>\n",
       "    </tr>\n",
       "    <tr>\n",
       "      <th>DummyRegressor</th>\n",
       "      <td>-0.02</td>\n",
       "      <td>-0.01</td>\n",
       "      <td>0.09</td>\n",
       "      <td>0.00</td>\n",
       "    </tr>\n",
       "    <tr>\n",
       "      <th>LassoLars</th>\n",
       "      <td>-0.02</td>\n",
       "      <td>-0.01</td>\n",
       "      <td>0.09</td>\n",
       "      <td>0.00</td>\n",
       "    </tr>\n",
       "    <tr>\n",
       "      <th>KernelRidge</th>\n",
       "      <td>-1.49</td>\n",
       "      <td>-1.46</td>\n",
       "      <td>0.14</td>\n",
       "      <td>0.40</td>\n",
       "    </tr>\n",
       "  </tbody>\n",
       "</table>\n",
       "</div>"
      ],
      "text/plain": [
       "                               Adjusted R-Squared  R-Squared  RMSE  Time Taken\n",
       "Model                                                                         \n",
       "HistGradientBoostingRegressor                0.90       0.90  0.03        0.50\n",
       "ExtraTreesRegressor                          0.90       0.90  0.03        0.15\n",
       "DecisionTreeRegressor                        0.90       0.90  0.03        0.00\n",
       "ExtraTreeRegressor                           0.90       0.90  0.03        0.01\n",
       "GaussianProcessRegressor                     0.90       0.90  0.03        0.65\n",
       "RandomForestRegressor                        0.90       0.90  0.03        0.15\n",
       "BaggingRegressor                             0.89       0.90  0.03        0.02\n",
       "NuSVR                                        0.89       0.89  0.03        0.54\n",
       "GradientBoostingRegressor                    0.89       0.89  0.03        0.11\n",
       "MLPRegressor                                 0.88       0.89  0.03        0.11\n",
       "KNeighborsRegressor                          0.88       0.88  0.03        0.02\n",
       "AdaBoostRegressor                            0.82       0.82  0.04        0.05\n",
       "OrthogonalMatchingPursuitCV                  0.78       0.79  0.04        0.01\n",
       "TransformedTargetRegressor                   0.78       0.79  0.04        0.00\n",
       "LinearRegression                             0.78       0.79  0.04        0.00\n",
       "LassoLarsCV                                  0.78       0.79  0.04        0.01\n",
       "LassoLarsIC                                  0.78       0.79  0.04        0.01\n",
       "Ridge                                        0.78       0.79  0.04        0.01\n",
       "RidgeCV                                      0.78       0.79  0.04        0.01\n",
       "LassoCV                                      0.78       0.79  0.04        0.05\n",
       "ElasticNetCV                                 0.78       0.79  0.04        0.03\n",
       "BayesianRidge                                0.78       0.79  0.04        0.00\n",
       "SGDRegressor                                 0.78       0.78  0.04        0.01\n",
       "LinearSVR                                    0.78       0.78  0.04        0.08\n",
       "HuberRegressor                               0.78       0.78  0.04        0.02\n",
       "LarsCV                                       0.77       0.77  0.04        0.01\n",
       "Lars                                         0.76       0.76  0.04        0.01\n",
       "RANSACRegressor                              0.76       0.76  0.04        0.02\n",
       "PassiveAggressiveRegressor                   0.70       0.71  0.05        0.00\n",
       "SVR                                          0.70       0.71  0.05        0.02\n",
       "OrthogonalMatchingPursuit                    0.68       0.69  0.05        0.00\n",
       "TweedieRegressor                             0.56       0.57  0.06        0.02\n",
       "PoissonRegressor                             0.15       0.16  0.08        0.03\n",
       "Lasso                                       -0.02      -0.01  0.09        0.01\n",
       "ElasticNet                                  -0.02      -0.01  0.09        0.00\n",
       "DummyRegressor                              -0.02      -0.01  0.09        0.00\n",
       "LassoLars                                   -0.02      -0.01  0.09        0.00\n",
       "KernelRidge                                 -1.49      -1.46  0.14        0.40"
      ]
     },
     "execution_count": 14,
     "metadata": {},
     "output_type": "execute_result"
    }
   ],
   "source": [
    "results"
   ]
  },
  {
   "cell_type": "markdown",
   "id": "ec0fc3de-fda6-41c9-834a-7252b8963b97",
   "metadata": {},
   "source": [
    "###### Selecting the fastest of the top performing algorithms gives Random Forest as the optimal algorithm from the considered list"
   ]
  },
  {
   "cell_type": "markdown",
   "id": "a4fe893d-38c5-4c06-931f-ae030d430304",
   "metadata": {},
   "source": [
    "###### Also, we cannot cast this problem as a classification task because we do not have enough representation for cases greater than 0.5 threshold of readadmission rate"
   ]
  },
  {
   "cell_type": "markdown",
   "id": "45277e10-3f97-43c7-bd05-0d268c754f64",
   "metadata": {},
   "source": [
    "#### Random Forest Model"
   ]
  },
  {
   "cell_type": "markdown",
   "id": "2f679ff1-f730-468d-94c8-09eabc12ec1b",
   "metadata": {},
   "source": [
    "##### Build base model"
   ]
  },
  {
   "cell_type": "code",
   "execution_count": 15,
   "id": "42d79597-9a84-405f-b1bf-91024a35b865",
   "metadata": {},
   "outputs": [],
   "source": [
    "rf_model = RandomForestRegressor(random_state=50)"
   ]
  },
  {
   "cell_type": "code",
   "execution_count": 16,
   "id": "45057790-bd6a-4dc8-aa5a-40d5e06c9103",
   "metadata": {},
   "outputs": [
    {
     "data": {
      "text/html": [
       "<style>#sk-container-id-1 {color: black;}#sk-container-id-1 pre{padding: 0;}#sk-container-id-1 div.sk-toggleable {background-color: white;}#sk-container-id-1 label.sk-toggleable__label {cursor: pointer;display: block;width: 100%;margin-bottom: 0;padding: 0.3em;box-sizing: border-box;text-align: center;}#sk-container-id-1 label.sk-toggleable__label-arrow:before {content: \"▸\";float: left;margin-right: 0.25em;color: #696969;}#sk-container-id-1 label.sk-toggleable__label-arrow:hover:before {color: black;}#sk-container-id-1 div.sk-estimator:hover label.sk-toggleable__label-arrow:before {color: black;}#sk-container-id-1 div.sk-toggleable__content {max-height: 0;max-width: 0;overflow: hidden;text-align: left;background-color: #f0f8ff;}#sk-container-id-1 div.sk-toggleable__content pre {margin: 0.2em;color: black;border-radius: 0.25em;background-color: #f0f8ff;}#sk-container-id-1 input.sk-toggleable__control:checked~div.sk-toggleable__content {max-height: 200px;max-width: 100%;overflow: auto;}#sk-container-id-1 input.sk-toggleable__control:checked~label.sk-toggleable__label-arrow:before {content: \"▾\";}#sk-container-id-1 div.sk-estimator input.sk-toggleable__control:checked~label.sk-toggleable__label {background-color: #d4ebff;}#sk-container-id-1 div.sk-label input.sk-toggleable__control:checked~label.sk-toggleable__label {background-color: #d4ebff;}#sk-container-id-1 input.sk-hidden--visually {border: 0;clip: rect(1px 1px 1px 1px);clip: rect(1px, 1px, 1px, 1px);height: 1px;margin: -1px;overflow: hidden;padding: 0;position: absolute;width: 1px;}#sk-container-id-1 div.sk-estimator {font-family: monospace;background-color: #f0f8ff;border: 1px dotted black;border-radius: 0.25em;box-sizing: border-box;margin-bottom: 0.5em;}#sk-container-id-1 div.sk-estimator:hover {background-color: #d4ebff;}#sk-container-id-1 div.sk-parallel-item::after {content: \"\";width: 100%;border-bottom: 1px solid gray;flex-grow: 1;}#sk-container-id-1 div.sk-label:hover label.sk-toggleable__label {background-color: #d4ebff;}#sk-container-id-1 div.sk-serial::before {content: \"\";position: absolute;border-left: 1px solid gray;box-sizing: border-box;top: 0;bottom: 0;left: 50%;z-index: 0;}#sk-container-id-1 div.sk-serial {display: flex;flex-direction: column;align-items: center;background-color: white;padding-right: 0.2em;padding-left: 0.2em;position: relative;}#sk-container-id-1 div.sk-item {position: relative;z-index: 1;}#sk-container-id-1 div.sk-parallel {display: flex;align-items: stretch;justify-content: center;background-color: white;position: relative;}#sk-container-id-1 div.sk-item::before, #sk-container-id-1 div.sk-parallel-item::before {content: \"\";position: absolute;border-left: 1px solid gray;box-sizing: border-box;top: 0;bottom: 0;left: 50%;z-index: -1;}#sk-container-id-1 div.sk-parallel-item {display: flex;flex-direction: column;z-index: 1;position: relative;background-color: white;}#sk-container-id-1 div.sk-parallel-item:first-child::after {align-self: flex-end;width: 50%;}#sk-container-id-1 div.sk-parallel-item:last-child::after {align-self: flex-start;width: 50%;}#sk-container-id-1 div.sk-parallel-item:only-child::after {width: 0;}#sk-container-id-1 div.sk-dashed-wrapped {border: 1px dashed gray;margin: 0 0.4em 0.5em 0.4em;box-sizing: border-box;padding-bottom: 0.4em;background-color: white;}#sk-container-id-1 div.sk-label label {font-family: monospace;font-weight: bold;display: inline-block;line-height: 1.2em;}#sk-container-id-1 div.sk-label-container {text-align: center;}#sk-container-id-1 div.sk-container {/* jupyter's `normalize.less` sets `[hidden] { display: none; }` but bootstrap.min.css set `[hidden] { display: none !important; }` so we also need the `!important` here to be able to override the default hidden behavior on the sphinx rendered scikit-learn.org. See: https://github.com/scikit-learn/scikit-learn/issues/21755 */display: inline-block !important;position: relative;}#sk-container-id-1 div.sk-text-repr-fallback {display: none;}</style><div id=\"sk-container-id-1\" class=\"sk-top-container\"><div class=\"sk-text-repr-fallback\"><pre>RandomForestRegressor(random_state=50)</pre><b>In a Jupyter environment, please rerun this cell to show the HTML representation or trust the notebook. <br />On GitHub, the HTML representation is unable to render, please try loading this page with nbviewer.org.</b></div><div class=\"sk-container\" hidden><div class=\"sk-item\"><div class=\"sk-estimator sk-toggleable\"><input class=\"sk-toggleable__control sk-hidden--visually\" id=\"sk-estimator-id-1\" type=\"checkbox\" checked><label for=\"sk-estimator-id-1\" class=\"sk-toggleable__label sk-toggleable__label-arrow\">RandomForestRegressor</label><div class=\"sk-toggleable__content\"><pre>RandomForestRegressor(random_state=50)</pre></div></div></div></div></div>"
      ],
      "text/plain": [
       "RandomForestRegressor(random_state=50)"
      ]
     },
     "execution_count": 16,
     "metadata": {},
     "output_type": "execute_result"
    }
   ],
   "source": [
    "rf_model.fit(XX_train[ml_input_feats],yy_train)"
   ]
  },
  {
   "cell_type": "code",
   "execution_count": 17,
   "id": "330ce3b2-58f8-4fb8-98f1-3fd4c693f6c9",
   "metadata": {},
   "outputs": [],
   "source": [
    "yy_pred_rf = rf_model.predict(XX_test[ml_input_feats])"
   ]
  },
  {
   "cell_type": "markdown",
   "id": "31cfbb4d-2374-4c86-91f0-80354e5cb685",
   "metadata": {},
   "source": [
    "##### Assess base model"
   ]
  },
  {
   "cell_type": "code",
   "execution_count": 99,
   "id": "14f9208d-b1c4-4655-b26a-c9a652923ee1",
   "metadata": {},
   "outputs": [
    {
     "data": {
      "text/plain": [
       "0.8965"
      ]
     },
     "execution_count": 99,
     "metadata": {},
     "output_type": "execute_result"
    }
   ],
   "source": [
    "r2_rf = np.round(r2_score(yy_test,yy_pred_rf),4)\n",
    "r2_rf"
   ]
  },
  {
   "cell_type": "code",
   "execution_count": 98,
   "id": "b2e50200-a78c-4682-a1dd-a6b2253467bf",
   "metadata": {},
   "outputs": [
    {
     "data": {
      "text/plain": [
       "0.0174"
      ]
     },
     "execution_count": 98,
     "metadata": {},
     "output_type": "execute_result"
    }
   ],
   "source": [
    "mae_rf = np.round(mean_absolute_error(yy_test, yy_pred_rf),4)\n",
    "mae_rf"
   ]
  },
  {
   "cell_type": "code",
   "execution_count": 97,
   "id": "60d23586-f182-498f-aa30-82f78887dddd",
   "metadata": {},
   "outputs": [
    {
     "data": {
      "text/plain": [
       "0.9469"
      ]
     },
     "execution_count": 97,
     "metadata": {},
     "output_type": "execute_result"
    }
   ],
   "source": [
    "np.round(np.corrcoef(yy_test, yy_pred_rf)[0,1],4)"
   ]
  },
  {
   "cell_type": "code",
   "execution_count": 24,
   "id": "157a085d-913b-450f-bb8b-75dd9d0dad38",
   "metadata": {},
   "outputs": [
    {
     "data": {
      "text/plain": [
       "array([0.1155408 , 0.00251644, 0.00879959, 0.00551114, 0.00847762,\n",
       "       0.00377142, 0.01259826, 0.84278473])"
      ]
     },
     "execution_count": 24,
     "metadata": {},
     "output_type": "execute_result"
    }
   ],
   "source": [
    "rf_model.feature_importances_"
   ]
  },
  {
   "cell_type": "code",
   "execution_count": 26,
   "id": "dcd3c103-d518-4c43-9534-e7995e05e21d",
   "metadata": {},
   "outputs": [
    {
     "data": {
      "text/plain": [
       "array(['Age_Group', 'Sex', 'Medicare_Type', 'Non-Hispanic_White',\n",
       "       'Non-Hispanic_Black', 'Hispanic', 'Native_American', 'MCC_Group'],\n",
       "      dtype='<U18')"
      ]
     },
     "execution_count": 26,
     "metadata": {},
     "output_type": "execute_result"
    }
   ],
   "source": [
    "np.array(ml_input_feats)"
   ]
  },
  {
   "cell_type": "markdown",
   "id": "0b38ad80-049b-4d54-ac0e-9b884e5adef4",
   "metadata": {},
   "source": [
    "#### Optimize hyper-parameters"
   ]
  },
  {
   "cell_type": "code",
   "execution_count": 139,
   "id": "62cb53b5-e5e1-4c58-be8d-980338f2eb69",
   "metadata": {},
   "outputs": [],
   "source": [
    "estimator_rf = RandomForestRegressor(random_state=50)"
   ]
  },
  {
   "cell_type": "code",
   "execution_count": 140,
   "id": "ee6f5760-e139-48d9-bac1-9f05506b42d0",
   "metadata": {},
   "outputs": [],
   "source": [
    "# Number of trees in random forest\n",
    "n_estimators = [int(x) for x in np.linspace(start = 100, stop = 1000, num = 50)]\n",
    "\n",
    "# Number of features to consider at every split\n",
    "max_features = ['auto', 'sqrt']\n",
    "\n",
    "# Maximum number of levels in tree\n",
    "max_depth = [int(x) for x in np.linspace(3, 30, num = 10)] + [None]\n",
    "\n",
    "# Minimum number of samples required to split a node\n",
    "min_samples_split = [2, 5, 7, 10]\n",
    "\n",
    "# Minimum number of samples required at each leaf node\n",
    "min_samples_leaf = [1, 2, 4, 7]\n",
    "\n",
    "# Method of selecting samples for training each tree\n",
    "bootstrap = [True, False]"
   ]
  },
  {
   "cell_type": "code",
   "execution_count": 141,
   "id": "f52c0082-8dcb-4c52-b4f5-24cdd9962fa5",
   "metadata": {},
   "outputs": [],
   "source": [
    "# Create the random parameter grid\n",
    "param_grid = {'n_estimators': n_estimators,\n",
    "               'max_features': max_features,\n",
    "               'max_depth': max_depth,\n",
    "               'min_samples_split': min_samples_split,\n",
    "               'min_samples_leaf': min_samples_leaf,\n",
    "               'bootstrap': bootstrap}"
   ]
  },
  {
   "cell_type": "code",
   "execution_count": 142,
   "id": "f2da9b9a-59bf-4b52-9c5c-4e9cc1382def",
   "metadata": {},
   "outputs": [],
   "source": [
    "rf_rnd = RandomizedSearchCV(estimator = estimator_rf, param_distributions = param_grid, n_iter = 100000, cv = 3, verbose=0,\n",
    "                            random_state=50, n_jobs = -1, scoring='neg_mean_absolute_error')"
   ]
  },
  {
   "cell_type": "code",
   "execution_count": 143,
   "id": "41c519eb-32e0-41d1-af15-23dca3d4f239",
   "metadata": {},
   "outputs": [
    {
     "name": "stdout",
     "output_type": "stream",
     "text": [
      "CPU times: user 26.3 s, sys: 6.6 s, total: 32.9 s\n",
      "Wall time: 17h 4min 3s\n"
     ]
    },
    {
     "data": {
      "text/html": [
       "<style>#sk-container-id-17 {color: black;}#sk-container-id-17 pre{padding: 0;}#sk-container-id-17 div.sk-toggleable {background-color: white;}#sk-container-id-17 label.sk-toggleable__label {cursor: pointer;display: block;width: 100%;margin-bottom: 0;padding: 0.3em;box-sizing: border-box;text-align: center;}#sk-container-id-17 label.sk-toggleable__label-arrow:before {content: \"▸\";float: left;margin-right: 0.25em;color: #696969;}#sk-container-id-17 label.sk-toggleable__label-arrow:hover:before {color: black;}#sk-container-id-17 div.sk-estimator:hover label.sk-toggleable__label-arrow:before {color: black;}#sk-container-id-17 div.sk-toggleable__content {max-height: 0;max-width: 0;overflow: hidden;text-align: left;background-color: #f0f8ff;}#sk-container-id-17 div.sk-toggleable__content pre {margin: 0.2em;color: black;border-radius: 0.25em;background-color: #f0f8ff;}#sk-container-id-17 input.sk-toggleable__control:checked~div.sk-toggleable__content {max-height: 200px;max-width: 100%;overflow: auto;}#sk-container-id-17 input.sk-toggleable__control:checked~label.sk-toggleable__label-arrow:before {content: \"▾\";}#sk-container-id-17 div.sk-estimator input.sk-toggleable__control:checked~label.sk-toggleable__label {background-color: #d4ebff;}#sk-container-id-17 div.sk-label input.sk-toggleable__control:checked~label.sk-toggleable__label {background-color: #d4ebff;}#sk-container-id-17 input.sk-hidden--visually {border: 0;clip: rect(1px 1px 1px 1px);clip: rect(1px, 1px, 1px, 1px);height: 1px;margin: -1px;overflow: hidden;padding: 0;position: absolute;width: 1px;}#sk-container-id-17 div.sk-estimator {font-family: monospace;background-color: #f0f8ff;border: 1px dotted black;border-radius: 0.25em;box-sizing: border-box;margin-bottom: 0.5em;}#sk-container-id-17 div.sk-estimator:hover {background-color: #d4ebff;}#sk-container-id-17 div.sk-parallel-item::after {content: \"\";width: 100%;border-bottom: 1px solid gray;flex-grow: 1;}#sk-container-id-17 div.sk-label:hover label.sk-toggleable__label {background-color: #d4ebff;}#sk-container-id-17 div.sk-serial::before {content: \"\";position: absolute;border-left: 1px solid gray;box-sizing: border-box;top: 0;bottom: 0;left: 50%;z-index: 0;}#sk-container-id-17 div.sk-serial {display: flex;flex-direction: column;align-items: center;background-color: white;padding-right: 0.2em;padding-left: 0.2em;position: relative;}#sk-container-id-17 div.sk-item {position: relative;z-index: 1;}#sk-container-id-17 div.sk-parallel {display: flex;align-items: stretch;justify-content: center;background-color: white;position: relative;}#sk-container-id-17 div.sk-item::before, #sk-container-id-17 div.sk-parallel-item::before {content: \"\";position: absolute;border-left: 1px solid gray;box-sizing: border-box;top: 0;bottom: 0;left: 50%;z-index: -1;}#sk-container-id-17 div.sk-parallel-item {display: flex;flex-direction: column;z-index: 1;position: relative;background-color: white;}#sk-container-id-17 div.sk-parallel-item:first-child::after {align-self: flex-end;width: 50%;}#sk-container-id-17 div.sk-parallel-item:last-child::after {align-self: flex-start;width: 50%;}#sk-container-id-17 div.sk-parallel-item:only-child::after {width: 0;}#sk-container-id-17 div.sk-dashed-wrapped {border: 1px dashed gray;margin: 0 0.4em 0.5em 0.4em;box-sizing: border-box;padding-bottom: 0.4em;background-color: white;}#sk-container-id-17 div.sk-label label {font-family: monospace;font-weight: bold;display: inline-block;line-height: 1.2em;}#sk-container-id-17 div.sk-label-container {text-align: center;}#sk-container-id-17 div.sk-container {/* jupyter's `normalize.less` sets `[hidden] { display: none; }` but bootstrap.min.css set `[hidden] { display: none !important; }` so we also need the `!important` here to be able to override the default hidden behavior on the sphinx rendered scikit-learn.org. See: https://github.com/scikit-learn/scikit-learn/issues/21755 */display: inline-block !important;position: relative;}#sk-container-id-17 div.sk-text-repr-fallback {display: none;}</style><div id=\"sk-container-id-17\" class=\"sk-top-container\"><div class=\"sk-text-repr-fallback\"><pre>RandomizedSearchCV(cv=3, estimator=RandomForestRegressor(random_state=50),\n",
       "                   n_iter=100000, n_jobs=-1,\n",
       "                   param_distributions={&#x27;bootstrap&#x27;: [True, False],\n",
       "                                        &#x27;max_depth&#x27;: [3, 6, 9, 12, 15, 18, 21,\n",
       "                                                      24, 27, 30, None],\n",
       "                                        &#x27;max_features&#x27;: [&#x27;auto&#x27;, &#x27;sqrt&#x27;],\n",
       "                                        &#x27;min_samples_leaf&#x27;: [1, 2, 4, 7],\n",
       "                                        &#x27;min_samples_split&#x27;: [2, 5, 7, 10],\n",
       "                                        &#x27;n_estimators&#x27;: [100, 118, 136, 155,\n",
       "                                                         173, 191, 210, 228,\n",
       "                                                         246, 265, 283, 302,\n",
       "                                                         320, 338, 357, 375,\n",
       "                                                         393, 412, 430, 448,\n",
       "                                                         467, 485, 504, 522,\n",
       "                                                         540, 559, 577, 595,\n",
       "                                                         614, 632, ...]},\n",
       "                   random_state=50, scoring=&#x27;neg_mean_absolute_error&#x27;)</pre><b>In a Jupyter environment, please rerun this cell to show the HTML representation or trust the notebook. <br />On GitHub, the HTML representation is unable to render, please try loading this page with nbviewer.org.</b></div><div class=\"sk-container\" hidden><div class=\"sk-item sk-dashed-wrapped\"><div class=\"sk-label-container\"><div class=\"sk-label sk-toggleable\"><input class=\"sk-toggleable__control sk-hidden--visually\" id=\"sk-estimator-id-39\" type=\"checkbox\" ><label for=\"sk-estimator-id-39\" class=\"sk-toggleable__label sk-toggleable__label-arrow\">RandomizedSearchCV</label><div class=\"sk-toggleable__content\"><pre>RandomizedSearchCV(cv=3, estimator=RandomForestRegressor(random_state=50),\n",
       "                   n_iter=100000, n_jobs=-1,\n",
       "                   param_distributions={&#x27;bootstrap&#x27;: [True, False],\n",
       "                                        &#x27;max_depth&#x27;: [3, 6, 9, 12, 15, 18, 21,\n",
       "                                                      24, 27, 30, None],\n",
       "                                        &#x27;max_features&#x27;: [&#x27;auto&#x27;, &#x27;sqrt&#x27;],\n",
       "                                        &#x27;min_samples_leaf&#x27;: [1, 2, 4, 7],\n",
       "                                        &#x27;min_samples_split&#x27;: [2, 5, 7, 10],\n",
       "                                        &#x27;n_estimators&#x27;: [100, 118, 136, 155,\n",
       "                                                         173, 191, 210, 228,\n",
       "                                                         246, 265, 283, 302,\n",
       "                                                         320, 338, 357, 375,\n",
       "                                                         393, 412, 430, 448,\n",
       "                                                         467, 485, 504, 522,\n",
       "                                                         540, 559, 577, 595,\n",
       "                                                         614, 632, ...]},\n",
       "                   random_state=50, scoring=&#x27;neg_mean_absolute_error&#x27;)</pre></div></div></div><div class=\"sk-parallel\"><div class=\"sk-parallel-item\"><div class=\"sk-item\"><div class=\"sk-label-container\"><div class=\"sk-label sk-toggleable\"><input class=\"sk-toggleable__control sk-hidden--visually\" id=\"sk-estimator-id-40\" type=\"checkbox\" ><label for=\"sk-estimator-id-40\" class=\"sk-toggleable__label sk-toggleable__label-arrow\">estimator: RandomForestRegressor</label><div class=\"sk-toggleable__content\"><pre>RandomForestRegressor(random_state=50)</pre></div></div></div><div class=\"sk-serial\"><div class=\"sk-item\"><div class=\"sk-estimator sk-toggleable\"><input class=\"sk-toggleable__control sk-hidden--visually\" id=\"sk-estimator-id-41\" type=\"checkbox\" ><label for=\"sk-estimator-id-41\" class=\"sk-toggleable__label sk-toggleable__label-arrow\">RandomForestRegressor</label><div class=\"sk-toggleable__content\"><pre>RandomForestRegressor(random_state=50)</pre></div></div></div></div></div></div></div></div></div></div>"
      ],
      "text/plain": [
       "RandomizedSearchCV(cv=3, estimator=RandomForestRegressor(random_state=50),\n",
       "                   n_iter=100000, n_jobs=-1,\n",
       "                   param_distributions={'bootstrap': [True, False],\n",
       "                                        'max_depth': [3, 6, 9, 12, 15, 18, 21,\n",
       "                                                      24, 27, 30, None],\n",
       "                                        'max_features': ['auto', 'sqrt'],\n",
       "                                        'min_samples_leaf': [1, 2, 4, 7],\n",
       "                                        'min_samples_split': [2, 5, 7, 10],\n",
       "                                        'n_estimators': [100, 118, 136, 155,\n",
       "                                                         173, 191, 210, 228,\n",
       "                                                         246, 265, 283, 302,\n",
       "                                                         320, 338, 357, 375,\n",
       "                                                         393, 412, 430, 448,\n",
       "                                                         467, 485, 504, 522,\n",
       "                                                         540, 559, 577, 595,\n",
       "                                                         614, 632, ...]},\n",
       "                   random_state=50, scoring='neg_mean_absolute_error')"
      ]
     },
     "execution_count": 143,
     "metadata": {},
     "output_type": "execute_result"
    }
   ],
   "source": [
    "%%time\n",
    "rf_rnd.fit(XX_train[ml_input_feats], yy_train)"
   ]
  },
  {
   "cell_type": "code",
   "execution_count": 144,
   "id": "efb3f30e-f5da-42a2-a368-78d156f6e3bc",
   "metadata": {},
   "outputs": [
    {
     "data": {
      "text/plain": [
       "-0.017830826169762757"
      ]
     },
     "execution_count": 144,
     "metadata": {},
     "output_type": "execute_result"
    }
   ],
   "source": [
    "rf_rnd.best_score_"
   ]
  },
  {
   "cell_type": "code",
   "execution_count": 145,
   "id": "9634f6ac-6108-4d98-b038-1b425acf914c",
   "metadata": {},
   "outputs": [
    {
     "data": {
      "text/plain": [
       "{'n_estimators': 485,\n",
       " 'min_samples_split': 2,\n",
       " 'min_samples_leaf': 1,\n",
       " 'max_features': 'sqrt',\n",
       " 'max_depth': 12,\n",
       " 'bootstrap': False}"
      ]
     },
     "execution_count": 145,
     "metadata": {},
     "output_type": "execute_result"
    }
   ],
   "source": [
    "rf_rnd.best_params_"
   ]
  },
  {
   "cell_type": "code",
   "execution_count": 146,
   "id": "d067a4dc-7698-4771-9f73-f912e277254b",
   "metadata": {},
   "outputs": [
    {
     "data": {
      "text/plain": [
       "{'n_estimators': 485,\n",
       " 'min_samples_split': 2,\n",
       " 'min_samples_leaf': 1,\n",
       " 'max_features': 'sqrt',\n",
       " 'max_depth': 12,\n",
       " 'bootstrap': False}"
      ]
     },
     "execution_count": 146,
     "metadata": {},
     "output_type": "execute_result"
    }
   ],
   "source": [
    "rf_rnd.best_params_"
   ]
  },
  {
   "cell_type": "markdown",
   "id": "d780c8bb-abbb-43ee-babf-e540e3936ad0",
   "metadata": {},
   "source": [
    "##### Build new model using optimized hyper-parameters"
   ]
  },
  {
   "cell_type": "code",
   "execution_count": 147,
   "id": "776ebda7-4969-472c-ac7e-782ec6971245",
   "metadata": {},
   "outputs": [],
   "source": [
    "rf_model2 = RandomForestRegressor(**rf_rnd.best_params_,random_state=50)"
   ]
  },
  {
   "cell_type": "code",
   "execution_count": 148,
   "id": "60715f6e-f220-42ed-aba1-3ec905e82189",
   "metadata": {},
   "outputs": [
    {
     "name": "stdout",
     "output_type": "stream",
     "text": [
      "CPU times: user 371 ms, sys: 5.34 ms, total: 377 ms\n",
      "Wall time: 379 ms\n"
     ]
    },
    {
     "data": {
      "text/html": [
       "<style>#sk-container-id-18 {color: black;}#sk-container-id-18 pre{padding: 0;}#sk-container-id-18 div.sk-toggleable {background-color: white;}#sk-container-id-18 label.sk-toggleable__label {cursor: pointer;display: block;width: 100%;margin-bottom: 0;padding: 0.3em;box-sizing: border-box;text-align: center;}#sk-container-id-18 label.sk-toggleable__label-arrow:before {content: \"▸\";float: left;margin-right: 0.25em;color: #696969;}#sk-container-id-18 label.sk-toggleable__label-arrow:hover:before {color: black;}#sk-container-id-18 div.sk-estimator:hover label.sk-toggleable__label-arrow:before {color: black;}#sk-container-id-18 div.sk-toggleable__content {max-height: 0;max-width: 0;overflow: hidden;text-align: left;background-color: #f0f8ff;}#sk-container-id-18 div.sk-toggleable__content pre {margin: 0.2em;color: black;border-radius: 0.25em;background-color: #f0f8ff;}#sk-container-id-18 input.sk-toggleable__control:checked~div.sk-toggleable__content {max-height: 200px;max-width: 100%;overflow: auto;}#sk-container-id-18 input.sk-toggleable__control:checked~label.sk-toggleable__label-arrow:before {content: \"▾\";}#sk-container-id-18 div.sk-estimator input.sk-toggleable__control:checked~label.sk-toggleable__label {background-color: #d4ebff;}#sk-container-id-18 div.sk-label input.sk-toggleable__control:checked~label.sk-toggleable__label {background-color: #d4ebff;}#sk-container-id-18 input.sk-hidden--visually {border: 0;clip: rect(1px 1px 1px 1px);clip: rect(1px, 1px, 1px, 1px);height: 1px;margin: -1px;overflow: hidden;padding: 0;position: absolute;width: 1px;}#sk-container-id-18 div.sk-estimator {font-family: monospace;background-color: #f0f8ff;border: 1px dotted black;border-radius: 0.25em;box-sizing: border-box;margin-bottom: 0.5em;}#sk-container-id-18 div.sk-estimator:hover {background-color: #d4ebff;}#sk-container-id-18 div.sk-parallel-item::after {content: \"\";width: 100%;border-bottom: 1px solid gray;flex-grow: 1;}#sk-container-id-18 div.sk-label:hover label.sk-toggleable__label {background-color: #d4ebff;}#sk-container-id-18 div.sk-serial::before {content: \"\";position: absolute;border-left: 1px solid gray;box-sizing: border-box;top: 0;bottom: 0;left: 50%;z-index: 0;}#sk-container-id-18 div.sk-serial {display: flex;flex-direction: column;align-items: center;background-color: white;padding-right: 0.2em;padding-left: 0.2em;position: relative;}#sk-container-id-18 div.sk-item {position: relative;z-index: 1;}#sk-container-id-18 div.sk-parallel {display: flex;align-items: stretch;justify-content: center;background-color: white;position: relative;}#sk-container-id-18 div.sk-item::before, #sk-container-id-18 div.sk-parallel-item::before {content: \"\";position: absolute;border-left: 1px solid gray;box-sizing: border-box;top: 0;bottom: 0;left: 50%;z-index: -1;}#sk-container-id-18 div.sk-parallel-item {display: flex;flex-direction: column;z-index: 1;position: relative;background-color: white;}#sk-container-id-18 div.sk-parallel-item:first-child::after {align-self: flex-end;width: 50%;}#sk-container-id-18 div.sk-parallel-item:last-child::after {align-self: flex-start;width: 50%;}#sk-container-id-18 div.sk-parallel-item:only-child::after {width: 0;}#sk-container-id-18 div.sk-dashed-wrapped {border: 1px dashed gray;margin: 0 0.4em 0.5em 0.4em;box-sizing: border-box;padding-bottom: 0.4em;background-color: white;}#sk-container-id-18 div.sk-label label {font-family: monospace;font-weight: bold;display: inline-block;line-height: 1.2em;}#sk-container-id-18 div.sk-label-container {text-align: center;}#sk-container-id-18 div.sk-container {/* jupyter's `normalize.less` sets `[hidden] { display: none; }` but bootstrap.min.css set `[hidden] { display: none !important; }` so we also need the `!important` here to be able to override the default hidden behavior on the sphinx rendered scikit-learn.org. See: https://github.com/scikit-learn/scikit-learn/issues/21755 */display: inline-block !important;position: relative;}#sk-container-id-18 div.sk-text-repr-fallback {display: none;}</style><div id=\"sk-container-id-18\" class=\"sk-top-container\"><div class=\"sk-text-repr-fallback\"><pre>RandomForestRegressor(bootstrap=False, max_depth=12, max_features=&#x27;sqrt&#x27;,\n",
       "                      n_estimators=485, random_state=50)</pre><b>In a Jupyter environment, please rerun this cell to show the HTML representation or trust the notebook. <br />On GitHub, the HTML representation is unable to render, please try loading this page with nbviewer.org.</b></div><div class=\"sk-container\" hidden><div class=\"sk-item\"><div class=\"sk-estimator sk-toggleable\"><input class=\"sk-toggleable__control sk-hidden--visually\" id=\"sk-estimator-id-42\" type=\"checkbox\" checked><label for=\"sk-estimator-id-42\" class=\"sk-toggleable__label sk-toggleable__label-arrow\">RandomForestRegressor</label><div class=\"sk-toggleable__content\"><pre>RandomForestRegressor(bootstrap=False, max_depth=12, max_features=&#x27;sqrt&#x27;,\n",
       "                      n_estimators=485, random_state=50)</pre></div></div></div></div></div>"
      ],
      "text/plain": [
       "RandomForestRegressor(bootstrap=False, max_depth=12, max_features='sqrt',\n",
       "                      n_estimators=485, random_state=50)"
      ]
     },
     "execution_count": 148,
     "metadata": {},
     "output_type": "execute_result"
    }
   ],
   "source": [
    "%%time\n",
    "rf_model2.fit(XX_train[ml_input_feats], yy_train)"
   ]
  },
  {
   "cell_type": "code",
   "execution_count": 149,
   "id": "8ab7f72c-daa3-4561-9b0b-58c9eea21ab5",
   "metadata": {},
   "outputs": [],
   "source": [
    "yy_pred_rf2 = rf_model2.predict(XX_test[ml_input_feats])"
   ]
  },
  {
   "cell_type": "markdown",
   "id": "95e4c25a-1a8d-43f2-b05c-8ae0b9b825f7",
   "metadata": {},
   "source": [
    "##### Assess optimized model"
   ]
  },
  {
   "cell_type": "code",
   "execution_count": 150,
   "id": "f10e6731-5db5-4d18-9c71-12f24cf13a55",
   "metadata": {},
   "outputs": [
    {
     "data": {
      "text/plain": [
       "0.8965"
      ]
     },
     "execution_count": 150,
     "metadata": {},
     "output_type": "execute_result"
    }
   ],
   "source": [
    "r2_rf2 = np.round(r2_score(yy_test, yy_pred_rf2),4)\n",
    "r2_rf2"
   ]
  },
  {
   "cell_type": "code",
   "execution_count": 151,
   "id": "3c75f090-10b2-4a47-8599-56b64e0090af",
   "metadata": {},
   "outputs": [
    {
     "data": {
      "text/plain": [
       "0.0174"
      ]
     },
     "execution_count": 151,
     "metadata": {},
     "output_type": "execute_result"
    }
   ],
   "source": [
    "mae_rf2 = np.round(mean_absolute_error(yy_test, yy_pred_rf2),4)\n",
    "mae_rf2"
   ]
  },
  {
   "cell_type": "code",
   "execution_count": 152,
   "id": "7a181db8-b310-429a-8d31-e89bae95a036",
   "metadata": {},
   "outputs": [
    {
     "data": {
      "text/plain": [
       "0.9469"
      ]
     },
     "execution_count": 152,
     "metadata": {},
     "output_type": "execute_result"
    }
   ],
   "source": [
    "np.round(np.corrcoef(yy_test, yy_pred_rf2)[0,1],4)"
   ]
  },
  {
   "cell_type": "code",
   "execution_count": 153,
   "id": "174c25b1-668f-4082-b39f-1989e9b898ee",
   "metadata": {},
   "outputs": [
    {
     "data": {
      "text/plain": [
       "array([0.11344928, 0.00265056, 0.0088521 , 0.00537114, 0.00597519,\n",
       "       0.00279064, 0.00621391, 0.85469718])"
      ]
     },
     "execution_count": 153,
     "metadata": {},
     "output_type": "execute_result"
    }
   ],
   "source": [
    "rf_model2.feature_importances_"
   ]
  },
  {
   "cell_type": "code",
   "execution_count": 154,
   "id": "c74ca3a7-9e17-459f-baf1-75fad0fe196a",
   "metadata": {},
   "outputs": [
    {
     "data": {
      "text/plain": [
       "array(['Age_Group', 'Sex', 'Medicare_Type', 'Non-Hispanic_White',\n",
       "       'Non-Hispanic_Black', 'Hispanic', 'Native_American', 'MCC_Group'],\n",
       "      dtype='<U18')"
      ]
     },
     "execution_count": 154,
     "metadata": {},
     "output_type": "execute_result"
    }
   ],
   "source": [
    "np.array(ml_input_feats)"
   ]
  },
  {
   "cell_type": "code",
   "execution_count": null,
   "id": "dfbe0053-8739-4832-9941-1a2499bbe16b",
   "metadata": {},
   "outputs": [],
   "source": []
  }
 ],
 "metadata": {
  "kernelspec": {
   "display_name": "healthcare",
   "language": "python",
   "name": "healthcare"
  },
  "language_info": {
   "codemirror_mode": {
    "name": "ipython",
    "version": 3
   },
   "file_extension": ".py",
   "mimetype": "text/x-python",
   "name": "python",
   "nbconvert_exporter": "python",
   "pygments_lexer": "ipython3",
   "version": "3.12.3"
  }
 },
 "nbformat": 4,
 "nbformat_minor": 5
}
