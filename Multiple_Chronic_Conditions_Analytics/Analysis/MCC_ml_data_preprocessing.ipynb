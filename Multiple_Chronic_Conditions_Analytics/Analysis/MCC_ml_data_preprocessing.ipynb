{
 "cells": [
  {
   "cell_type": "markdown",
   "id": "b18771d0-bd15-4dcb-82ad-30e11cd6daea",
   "metadata": {},
   "source": [
    "## Multiple Chronic Conditions Machine Learning Modeling"
   ]
  },
  {
   "cell_type": "markdown",
   "id": "f72d281a-8de3-4924-a890-a65cf23aa3f2",
   "metadata": {},
   "source": [
    "### Import relevant libraries"
   ]
  },
  {
   "cell_type": "code",
   "execution_count": 81,
   "id": "3010c4b0-95a0-4298-95e9-f39a8b520e1f",
   "metadata": {},
   "outputs": [],
   "source": [
    "import numpy as np\n",
    "import pandas as pd\n",
    "import matplotlib.pyplot as plt\n",
    "import seaborn as sns\n",
    "import hvplot.pandas\n",
    "import holoviews as hv"
   ]
  },
  {
   "cell_type": "markdown",
   "id": "d26d39a2-f890-448c-b5e3-9824a18ab7e0",
   "metadata": {},
   "source": [
    "### Load MCC Datasets"
   ]
  },
  {
   "cell_type": "code",
   "execution_count": 2,
   "id": "ecce1cf9-0ff7-4de3-ace5-93f61b0a9819",
   "metadata": {},
   "outputs": [],
   "source": [
    "# Load MCC specific data\n",
    "mcc_df = pd.read_csv(\"processed_mcc_data_2017_2018.csv\")"
   ]
  },
  {
   "cell_type": "markdown",
   "id": "64b9e70f-ad56-44eb-87cb-0d88e3e810d9",
   "metadata": {},
   "source": [
    "### Data Exploration"
   ]
  },
  {
   "cell_type": "code",
   "execution_count": 3,
   "id": "aa749abd-bdab-4b7d-a032-b4f869098a51",
   "metadata": {},
   "outputs": [
    {
     "name": "stdout",
     "output_type": "stream",
     "text": [
      "<class 'pandas.core.frame.DataFrame'>\n",
      "RangeIndex: 89952 entries, 0 to 89951\n",
      "Data columns (total 13 columns):\n",
      " #   Column                    Non-Null Count  Dtype  \n",
      "---  ------                    --------------  -----  \n",
      " 0   Bene_Geo_Lvl              89952 non-null  object \n",
      " 1   Bene_Geo_Desc             89952 non-null  object \n",
      " 2   Bene_Geo_Cd               88992 non-null  float64\n",
      " 3   Bene_Age_Lvl              89952 non-null  object \n",
      " 4   Bene_Demo_Lvl             89952 non-null  object \n",
      " 5   Bene_Demo_Desc            89952 non-null  object \n",
      " 6   Bene_MCC                  89952 non-null  object \n",
      " 7   Prvlnc                    82512 non-null  float64\n",
      " 8   Tot_Mdcr_Stdzd_Pymt_PC    82484 non-null  float64\n",
      " 9   Tot_Mdcr_Pymt_PC          82484 non-null  float64\n",
      " 10  Hosp_Readmsn_Rate         50338 non-null  float64\n",
      " 11  ER_Visits_Per_1000_Benes  78648 non-null  float64\n",
      " 12  year                      89952 non-null  int64  \n",
      "dtypes: float64(6), int64(1), object(6)\n",
      "memory usage: 8.9+ MB\n"
     ]
    }
   ],
   "source": [
    "mcc_df.info()"
   ]
  },
  {
   "cell_type": "code",
   "execution_count": 4,
   "id": "f4d09e89-7757-4e2f-917a-35c09ee86ad0",
   "metadata": {},
   "outputs": [
    {
     "data": {
      "text/html": [
       "<div>\n",
       "<style scoped>\n",
       "    .dataframe tbody tr th:only-of-type {\n",
       "        vertical-align: middle;\n",
       "    }\n",
       "\n",
       "    .dataframe tbody tr th {\n",
       "        vertical-align: top;\n",
       "    }\n",
       "\n",
       "    .dataframe thead th {\n",
       "        text-align: right;\n",
       "    }\n",
       "</style>\n",
       "<table border=\"1\" class=\"dataframe\">\n",
       "  <thead>\n",
       "    <tr style=\"text-align: right;\">\n",
       "      <th></th>\n",
       "      <th>Bene_Geo_Lvl</th>\n",
       "      <th>Bene_Geo_Desc</th>\n",
       "      <th>Bene_Geo_Cd</th>\n",
       "      <th>Bene_Age_Lvl</th>\n",
       "      <th>Bene_Demo_Lvl</th>\n",
       "      <th>Bene_Demo_Desc</th>\n",
       "      <th>Bene_MCC</th>\n",
       "      <th>Prvlnc</th>\n",
       "      <th>Tot_Mdcr_Stdzd_Pymt_PC</th>\n",
       "      <th>Tot_Mdcr_Pymt_PC</th>\n",
       "      <th>Hosp_Readmsn_Rate</th>\n",
       "      <th>ER_Visits_Per_1000_Benes</th>\n",
       "      <th>year</th>\n",
       "    </tr>\n",
       "  </thead>\n",
       "  <tbody>\n",
       "    <tr>\n",
       "      <th>0</th>\n",
       "      <td>State</td>\n",
       "      <td>Alabama</td>\n",
       "      <td>1.0</td>\n",
       "      <td>65+</td>\n",
       "      <td>All</td>\n",
       "      <td>All</td>\n",
       "      <td>0 to 1</td>\n",
       "      <td>0.2318</td>\n",
       "      <td>1999.5660</td>\n",
       "      <td>1806.2546</td>\n",
       "      <td>0.0464</td>\n",
       "      <td>127.2703</td>\n",
       "      <td>2017</td>\n",
       "    </tr>\n",
       "    <tr>\n",
       "      <th>1</th>\n",
       "      <td>State</td>\n",
       "      <td>Alabama</td>\n",
       "      <td>1.0</td>\n",
       "      <td>65+</td>\n",
       "      <td>All</td>\n",
       "      <td>All</td>\n",
       "      <td>2 to 3</td>\n",
       "      <td>0.2911</td>\n",
       "      <td>5198.6566</td>\n",
       "      <td>4738.4133</td>\n",
       "      <td>0.0589</td>\n",
       "      <td>307.5730</td>\n",
       "      <td>2017</td>\n",
       "    </tr>\n",
       "    <tr>\n",
       "      <th>2</th>\n",
       "      <td>State</td>\n",
       "      <td>Alabama</td>\n",
       "      <td>1.0</td>\n",
       "      <td>65+</td>\n",
       "      <td>All</td>\n",
       "      <td>All</td>\n",
       "      <td>4 to 5</td>\n",
       "      <td>0.2604</td>\n",
       "      <td>9896.6809</td>\n",
       "      <td>9017.2930</td>\n",
       "      <td>0.0936</td>\n",
       "      <td>576.8055</td>\n",
       "      <td>2017</td>\n",
       "    </tr>\n",
       "    <tr>\n",
       "      <th>3</th>\n",
       "      <td>State</td>\n",
       "      <td>Alabama</td>\n",
       "      <td>1.0</td>\n",
       "      <td>65+</td>\n",
       "      <td>All</td>\n",
       "      <td>All</td>\n",
       "      <td>6+</td>\n",
       "      <td>0.2168</td>\n",
       "      <td>27177.0547</td>\n",
       "      <td>24715.7787</td>\n",
       "      <td>0.2071</td>\n",
       "      <td>1594.5694</td>\n",
       "      <td>2017</td>\n",
       "    </tr>\n",
       "    <tr>\n",
       "      <th>4</th>\n",
       "      <td>State</td>\n",
       "      <td>Alabama</td>\n",
       "      <td>1.0</td>\n",
       "      <td>65+</td>\n",
       "      <td>Dual Status</td>\n",
       "      <td>Medicare Only</td>\n",
       "      <td>0 to 1</td>\n",
       "      <td>0.2473</td>\n",
       "      <td>1982.6565</td>\n",
       "      <td>1790.6022</td>\n",
       "      <td>0.0468</td>\n",
       "      <td>117.0981</td>\n",
       "      <td>2017</td>\n",
       "    </tr>\n",
       "  </tbody>\n",
       "</table>\n",
       "</div>"
      ],
      "text/plain": [
       "  Bene_Geo_Lvl Bene_Geo_Desc  Bene_Geo_Cd Bene_Age_Lvl Bene_Demo_Lvl  \\\n",
       "0        State       Alabama          1.0          65+           All   \n",
       "1        State       Alabama          1.0          65+           All   \n",
       "2        State       Alabama          1.0          65+           All   \n",
       "3        State       Alabama          1.0          65+           All   \n",
       "4        State       Alabama          1.0          65+   Dual Status   \n",
       "\n",
       "  Bene_Demo_Desc Bene_MCC  Prvlnc  Tot_Mdcr_Stdzd_Pymt_PC  Tot_Mdcr_Pymt_PC  \\\n",
       "0            All   0 to 1  0.2318               1999.5660         1806.2546   \n",
       "1            All   2 to 3  0.2911               5198.6566         4738.4133   \n",
       "2            All   4 to 5  0.2604               9896.6809         9017.2930   \n",
       "3            All       6+  0.2168              27177.0547        24715.7787   \n",
       "4  Medicare Only   0 to 1  0.2473               1982.6565         1790.6022   \n",
       "\n",
       "   Hosp_Readmsn_Rate  ER_Visits_Per_1000_Benes  year  \n",
       "0             0.0464                  127.2703  2017  \n",
       "1             0.0589                  307.5730  2017  \n",
       "2             0.0936                  576.8055  2017  \n",
       "3             0.2071                 1594.5694  2017  \n",
       "4             0.0468                  117.0981  2017  "
      ]
     },
     "execution_count": 4,
     "metadata": {},
     "output_type": "execute_result"
    }
   ],
   "source": [
    "mcc_df.head()"
   ]
  },
  {
   "cell_type": "markdown",
   "id": "7845f62b-370c-4a24-a92d-bf47146ed334",
   "metadata": {},
   "source": [
    "### Data Preprocessing"
   ]
  },
  {
   "cell_type": "markdown",
   "id": "6042cb5c-b99c-4f21-9a4f-e11b120dfcd4",
   "metadata": {},
   "source": [
    "#### Exclude redundant data groups"
   ]
  },
  {
   "cell_type": "code",
   "execution_count": 111,
   "id": "9986c8bd-e0ca-4ef2-b0b3-32232818b11c",
   "metadata": {},
   "outputs": [],
   "source": [
    "# Create new year column for 2017 MCC data\n",
    "mcc_dff = mcc_df[(mcc_df.Bene_Geo_Lvl == 'State') & (mcc_df.Bene_Age_Lvl != 'All') & (mcc_df.Bene_Demo_Desc != 'All') &\\\n",
    "                 (mcc_df.Hosp_Readmsn_Rate.notnull())].reset_index(drop=True)"
   ]
  },
  {
   "cell_type": "markdown",
   "id": "49fea932-800f-42a2-b6e4-4cba8d974cb3",
   "metadata": {},
   "source": [
    "#### Explore filtered data"
   ]
  },
  {
   "cell_type": "code",
   "execution_count": 112,
   "id": "3a7e246b-7592-4368-b77e-680e6618ea92",
   "metadata": {},
   "outputs": [
    {
     "data": {
      "text/plain": [
       "(5858, 13)"
      ]
     },
     "execution_count": 112,
     "metadata": {},
     "output_type": "execute_result"
    }
   ],
   "source": [
    "mcc_dff.shape"
   ]
  },
  {
   "cell_type": "code",
   "execution_count": 113,
   "id": "3f36c031-e5ed-4bb8-9817-e2b92682d499",
   "metadata": {},
   "outputs": [
    {
     "data": {
      "text/html": [
       "<div>\n",
       "<style scoped>\n",
       "    .dataframe tbody tr th:only-of-type {\n",
       "        vertical-align: middle;\n",
       "    }\n",
       "\n",
       "    .dataframe tbody tr th {\n",
       "        vertical-align: top;\n",
       "    }\n",
       "\n",
       "    .dataframe thead th {\n",
       "        text-align: right;\n",
       "    }\n",
       "</style>\n",
       "<table border=\"1\" class=\"dataframe\">\n",
       "  <thead>\n",
       "    <tr style=\"text-align: right;\">\n",
       "      <th></th>\n",
       "      <th>Bene_Geo_Lvl</th>\n",
       "      <th>Bene_Geo_Desc</th>\n",
       "      <th>Bene_Geo_Cd</th>\n",
       "      <th>Bene_Age_Lvl</th>\n",
       "      <th>Bene_Demo_Lvl</th>\n",
       "      <th>Bene_Demo_Desc</th>\n",
       "      <th>Bene_MCC</th>\n",
       "      <th>Prvlnc</th>\n",
       "      <th>Tot_Mdcr_Stdzd_Pymt_PC</th>\n",
       "      <th>Tot_Mdcr_Pymt_PC</th>\n",
       "      <th>Hosp_Readmsn_Rate</th>\n",
       "      <th>ER_Visits_Per_1000_Benes</th>\n",
       "      <th>year</th>\n",
       "    </tr>\n",
       "  </thead>\n",
       "  <tbody>\n",
       "    <tr>\n",
       "      <th>0</th>\n",
       "      <td>State</td>\n",
       "      <td>Alabama</td>\n",
       "      <td>1.0</td>\n",
       "      <td>65+</td>\n",
       "      <td>Dual Status</td>\n",
       "      <td>Medicare Only</td>\n",
       "      <td>0 to 1</td>\n",
       "      <td>0.2473</td>\n",
       "      <td>1982.6565</td>\n",
       "      <td>1790.6022</td>\n",
       "      <td>0.0468</td>\n",
       "      <td>117.0981</td>\n",
       "      <td>2017</td>\n",
       "    </tr>\n",
       "    <tr>\n",
       "      <th>1</th>\n",
       "      <td>State</td>\n",
       "      <td>Alabama</td>\n",
       "      <td>1.0</td>\n",
       "      <td>65+</td>\n",
       "      <td>Dual Status</td>\n",
       "      <td>Medicare Only</td>\n",
       "      <td>2 to 3</td>\n",
       "      <td>0.3028</td>\n",
       "      <td>5113.1152</td>\n",
       "      <td>4665.4711</td>\n",
       "      <td>0.0586</td>\n",
       "      <td>283.4593</td>\n",
       "      <td>2017</td>\n",
       "    </tr>\n",
       "    <tr>\n",
       "      <th>2</th>\n",
       "      <td>State</td>\n",
       "      <td>Alabama</td>\n",
       "      <td>1.0</td>\n",
       "      <td>65+</td>\n",
       "      <td>Dual Status</td>\n",
       "      <td>Medicare Only</td>\n",
       "      <td>4 to 5</td>\n",
       "      <td>0.2578</td>\n",
       "      <td>9650.4733</td>\n",
       "      <td>8806.6521</td>\n",
       "      <td>0.0908</td>\n",
       "      <td>534.1024</td>\n",
       "      <td>2017</td>\n",
       "    </tr>\n",
       "    <tr>\n",
       "      <th>3</th>\n",
       "      <td>State</td>\n",
       "      <td>Alabama</td>\n",
       "      <td>1.0</td>\n",
       "      <td>65+</td>\n",
       "      <td>Dual Status</td>\n",
       "      <td>Medicare Only</td>\n",
       "      <td>6+</td>\n",
       "      <td>0.1921</td>\n",
       "      <td>26061.1230</td>\n",
       "      <td>23776.4190</td>\n",
       "      <td>0.2038</td>\n",
       "      <td>1473.4968</td>\n",
       "      <td>2017</td>\n",
       "    </tr>\n",
       "    <tr>\n",
       "      <th>4</th>\n",
       "      <td>State</td>\n",
       "      <td>Alabama</td>\n",
       "      <td>1.0</td>\n",
       "      <td>65+</td>\n",
       "      <td>Dual Status</td>\n",
       "      <td>Medicare and Medicaid</td>\n",
       "      <td>2 to 3</td>\n",
       "      <td>0.2236</td>\n",
       "      <td>5864.6106</td>\n",
       "      <td>5306.2806</td>\n",
       "      <td>0.0605</td>\n",
       "      <td>495.3020</td>\n",
       "      <td>2017</td>\n",
       "    </tr>\n",
       "  </tbody>\n",
       "</table>\n",
       "</div>"
      ],
      "text/plain": [
       "  Bene_Geo_Lvl Bene_Geo_Desc  Bene_Geo_Cd Bene_Age_Lvl Bene_Demo_Lvl  \\\n",
       "0        State       Alabama          1.0          65+   Dual Status   \n",
       "1        State       Alabama          1.0          65+   Dual Status   \n",
       "2        State       Alabama          1.0          65+   Dual Status   \n",
       "3        State       Alabama          1.0          65+   Dual Status   \n",
       "4        State       Alabama          1.0          65+   Dual Status   \n",
       "\n",
       "          Bene_Demo_Desc Bene_MCC  Prvlnc  Tot_Mdcr_Stdzd_Pymt_PC  \\\n",
       "0          Medicare Only   0 to 1  0.2473               1982.6565   \n",
       "1          Medicare Only   2 to 3  0.3028               5113.1152   \n",
       "2          Medicare Only   4 to 5  0.2578               9650.4733   \n",
       "3          Medicare Only       6+  0.1921              26061.1230   \n",
       "4  Medicare and Medicaid   2 to 3  0.2236               5864.6106   \n",
       "\n",
       "   Tot_Mdcr_Pymt_PC  Hosp_Readmsn_Rate  ER_Visits_Per_1000_Benes  year  \n",
       "0         1790.6022             0.0468                  117.0981  2017  \n",
       "1         4665.4711             0.0586                  283.4593  2017  \n",
       "2         8806.6521             0.0908                  534.1024  2017  \n",
       "3        23776.4190             0.2038                 1473.4968  2017  \n",
       "4         5306.2806             0.0605                  495.3020  2017  "
      ]
     },
     "execution_count": 113,
     "metadata": {},
     "output_type": "execute_result"
    }
   ],
   "source": [
    "mcc_dff.head()"
   ]
  },
  {
   "cell_type": "markdown",
   "id": "f1d2ba52-b711-47c3-aa17-a237d93f8c0b",
   "metadata": {},
   "source": [
    "### Data Preprocesing"
   ]
  },
  {
   "cell_type": "markdown",
   "id": "02d25251-60e3-454c-b4f9-29cad6c21729",
   "metadata": {},
   "source": [
    "#### Feature engineering"
   ]
  },
  {
   "cell_type": "code",
   "execution_count": 114,
   "id": "5a56b054-abaf-42cf-97bd-367f9fb19cc3",
   "metadata": {},
   "outputs": [],
   "source": [
    "mcc_dff['Age_Group'] = np.where(mcc_dff.Bene_Age_Lvl =='<65',0,1)"
   ]
  },
  {
   "cell_type": "code",
   "execution_count": 115,
   "id": "f3723ce0-a70e-4235-a54f-daf1f56e91e5",
   "metadata": {},
   "outputs": [],
   "source": [
    "mcc_dff['Sex'] = np.where(mcc_dff.Bene_Demo_Desc == 'Female',0, np.where(mcc_dff.Bene_Demo_Desc == 'Male',1,-1))"
   ]
  },
  {
   "cell_type": "code",
   "execution_count": 116,
   "id": "c878506f-f36c-4195-8f1d-6f4d1640c00f",
   "metadata": {},
   "outputs": [],
   "source": [
    "mcc_dff['Medicare_Type'] = np.where(mcc_dff.Bene_Demo_Desc == 'Medicare Only',0, np.where(mcc_dff.Bene_Demo_Desc == 'Medicare and Medicaid',1,-1))"
   ]
  },
  {
   "cell_type": "code",
   "execution_count": 117,
   "id": "da8e92e1-8b45-4aa2-814b-3d3ce9187a64",
   "metadata": {},
   "outputs": [],
   "source": [
    "mcc_dff['Non-Hispanic_White'] = np.where(mcc_dff.Bene_Demo_Desc == 'non-Hispanic White',1,\n",
    "                                np.where(mcc_dff.Bene_Demo_Desc.isin(['Hispanic','non-Hispanic Black','Asian Pacific Islander', 'Native American']),0,-1))"
   ]
  },
  {
   "cell_type": "code",
   "execution_count": 118,
   "id": "9d1ab464-84f8-4d67-a4a4-e491fa5d8ae3",
   "metadata": {},
   "outputs": [],
   "source": [
    "mcc_dff['Non-Hispanic_Black'] = np.where(mcc_dff.Bene_Demo_Desc == 'non-Hispanic Black',1,\n",
    "                                np.where(mcc_dff.Bene_Demo_Desc.isin(['Hispanic','non-Hispanic White','Asian Pacific Islander', 'Native American']),0,-1))"
   ]
  },
  {
   "cell_type": "code",
   "execution_count": 119,
   "id": "45e3b652-2426-407c-993d-5cd9e41bf36b",
   "metadata": {},
   "outputs": [],
   "source": [
    "mcc_dff['Hispanic'] = np.where(mcc_dff.Bene_Demo_Desc == 'Hispanic',1,\n",
    "                               np.where(mcc_dff.Bene_Demo_Desc.isin(['non-Hispanic White','non-Hispanic Black','Asian Pacific Islander', 'Native American']),0,-1))"
   ]
  },
  {
   "cell_type": "code",
   "execution_count": 120,
   "id": "863bf908-7c14-45db-987f-e38dda961c1d",
   "metadata": {},
   "outputs": [],
   "source": [
    "mcc_dff['Asian_Pacific_Islander'] = np.where(mcc_dff.Bene_Demo_Desc == 'Asian Pacific Islander',1,\n",
    "                               np.where(mcc_dff.Bene_Demo_Desc.isin(['non-Hispanic White','non-Hispanic Black','Hispanic', 'Native American']),0,-1))"
   ]
  },
  {
   "cell_type": "code",
   "execution_count": 121,
   "id": "03c13cd0-719f-4752-82f8-49e009517195",
   "metadata": {},
   "outputs": [],
   "source": [
    "mcc_dff['Native_American'] = np.where(mcc_dff.Bene_Demo_Desc == 'Native American',1,\n",
    "                               np.where(mcc_dff.Bene_Demo_Desc.isin(['non-Hispanic White','non-Hispanic Black','Hispanic', 'Asian Pacific Islander']),0,-1))"
   ]
  },
  {
   "cell_type": "code",
   "execution_count": 122,
   "id": "8d172d0a-09a5-45e1-8a2d-3a3e0b213d15",
   "metadata": {},
   "outputs": [],
   "source": [
    "mcc_dff['MCC_Group'] = np.where(mcc_dff.Bene_MCC == '0 to 1',0, np.where(mcc_dff.Bene_MCC == '2 to 3',1,np.where(mcc_dff.Bene_MCC == '4 to 5',2,3)))"
   ]
  },
  {
   "cell_type": "code",
   "execution_count": 123,
   "id": "6c14fd62-4bba-4933-bdb8-84716ac389b7",
   "metadata": {},
   "outputs": [
    {
     "data": {
      "text/plain": [
       "Index(['Bene_Geo_Lvl', 'Bene_Geo_Desc', 'Bene_Geo_Cd', 'Bene_Age_Lvl',\n",
       "       'Bene_Demo_Lvl', 'Bene_Demo_Desc', 'Bene_MCC', 'Prvlnc',\n",
       "       'Tot_Mdcr_Stdzd_Pymt_PC', 'Tot_Mdcr_Pymt_PC', 'Hosp_Readmsn_Rate',\n",
       "       'ER_Visits_Per_1000_Benes', 'year', 'Age_Group', 'Sex', 'Medicare_Type',\n",
       "       'Non-Hispanic_White', 'Non-Hispanic_Black', 'Hispanic',\n",
       "       'Asian_Pacific_Islander', 'Native_American', 'MCC_Group'],\n",
       "      dtype='object')"
      ]
     },
     "execution_count": 123,
     "metadata": {},
     "output_type": "execute_result"
    }
   ],
   "source": [
    "mcc_dff.columns"
   ]
  },
  {
   "cell_type": "code",
   "execution_count": 124,
   "id": "58fa460c-c6db-4db8-af84-1413f41d41c5",
   "metadata": {},
   "outputs": [],
   "source": [
    "ml_cols = ['Year', 'Age_Group', 'Sex', 'Medicare_Type', 'Non-Hispanic_White', 'Non-Hispanic_Black', 'Hispanic',\n",
    "           'Asian_Pacific_Islander', 'Native_American', 'MCC_Group', 'Hosp_Readmsn_Rate']"
   ]
  },
  {
   "cell_type": "code",
   "execution_count": 125,
   "id": "97b11777-3fa3-4d49-a1f1-003d42a0f286",
   "metadata": {},
   "outputs": [
    {
     "data": {
      "text/html": [
       "<div>\n",
       "<style scoped>\n",
       "    .dataframe tbody tr th:only-of-type {\n",
       "        vertical-align: middle;\n",
       "    }\n",
       "\n",
       "    .dataframe tbody tr th {\n",
       "        vertical-align: top;\n",
       "    }\n",
       "\n",
       "    .dataframe thead th {\n",
       "        text-align: right;\n",
       "    }\n",
       "</style>\n",
       "<table border=\"1\" class=\"dataframe\">\n",
       "  <thead>\n",
       "    <tr style=\"text-align: right;\">\n",
       "      <th></th>\n",
       "      <th>Age_Group</th>\n",
       "      <th>Sex</th>\n",
       "      <th>Medicare_Type</th>\n",
       "      <th>Non-Hispanic_White</th>\n",
       "      <th>Non-Hispanic_Black</th>\n",
       "      <th>Hispanic</th>\n",
       "      <th>Asian_Pacific_Islander</th>\n",
       "      <th>Native_American</th>\n",
       "      <th>MCC_Group</th>\n",
       "      <th>Hosp_Readmsn_Rate</th>\n",
       "    </tr>\n",
       "  </thead>\n",
       "  <tbody>\n",
       "    <tr>\n",
       "      <th>0</th>\n",
       "      <td>1</td>\n",
       "      <td>-1</td>\n",
       "      <td>0</td>\n",
       "      <td>-1</td>\n",
       "      <td>-1</td>\n",
       "      <td>-1</td>\n",
       "      <td>-1</td>\n",
       "      <td>-1</td>\n",
       "      <td>0</td>\n",
       "      <td>0.0468</td>\n",
       "    </tr>\n",
       "    <tr>\n",
       "      <th>1</th>\n",
       "      <td>1</td>\n",
       "      <td>-1</td>\n",
       "      <td>0</td>\n",
       "      <td>-1</td>\n",
       "      <td>-1</td>\n",
       "      <td>-1</td>\n",
       "      <td>-1</td>\n",
       "      <td>-1</td>\n",
       "      <td>1</td>\n",
       "      <td>0.0586</td>\n",
       "    </tr>\n",
       "    <tr>\n",
       "      <th>2</th>\n",
       "      <td>1</td>\n",
       "      <td>-1</td>\n",
       "      <td>0</td>\n",
       "      <td>-1</td>\n",
       "      <td>-1</td>\n",
       "      <td>-1</td>\n",
       "      <td>-1</td>\n",
       "      <td>-1</td>\n",
       "      <td>2</td>\n",
       "      <td>0.0908</td>\n",
       "    </tr>\n",
       "    <tr>\n",
       "      <th>3</th>\n",
       "      <td>1</td>\n",
       "      <td>-1</td>\n",
       "      <td>0</td>\n",
       "      <td>-1</td>\n",
       "      <td>-1</td>\n",
       "      <td>-1</td>\n",
       "      <td>-1</td>\n",
       "      <td>-1</td>\n",
       "      <td>3</td>\n",
       "      <td>0.2038</td>\n",
       "    </tr>\n",
       "    <tr>\n",
       "      <th>4</th>\n",
       "      <td>1</td>\n",
       "      <td>-1</td>\n",
       "      <td>1</td>\n",
       "      <td>-1</td>\n",
       "      <td>-1</td>\n",
       "      <td>-1</td>\n",
       "      <td>-1</td>\n",
       "      <td>-1</td>\n",
       "      <td>1</td>\n",
       "      <td>0.0605</td>\n",
       "    </tr>\n",
       "    <tr>\n",
       "      <th>...</th>\n",
       "      <td>...</td>\n",
       "      <td>...</td>\n",
       "      <td>...</td>\n",
       "      <td>...</td>\n",
       "      <td>...</td>\n",
       "      <td>...</td>\n",
       "      <td>...</td>\n",
       "      <td>...</td>\n",
       "      <td>...</td>\n",
       "      <td>...</td>\n",
       "    </tr>\n",
       "    <tr>\n",
       "      <th>5853</th>\n",
       "      <td>0</td>\n",
       "      <td>-1</td>\n",
       "      <td>-1</td>\n",
       "      <td>0</td>\n",
       "      <td>1</td>\n",
       "      <td>0</td>\n",
       "      <td>0</td>\n",
       "      <td>0</td>\n",
       "      <td>1</td>\n",
       "      <td>0.0000</td>\n",
       "    </tr>\n",
       "    <tr>\n",
       "      <th>5854</th>\n",
       "      <td>0</td>\n",
       "      <td>-1</td>\n",
       "      <td>-1</td>\n",
       "      <td>0</td>\n",
       "      <td>1</td>\n",
       "      <td>0</td>\n",
       "      <td>0</td>\n",
       "      <td>0</td>\n",
       "      <td>2</td>\n",
       "      <td>0.0000</td>\n",
       "    </tr>\n",
       "    <tr>\n",
       "      <th>5855</th>\n",
       "      <td>0</td>\n",
       "      <td>-1</td>\n",
       "      <td>-1</td>\n",
       "      <td>1</td>\n",
       "      <td>0</td>\n",
       "      <td>0</td>\n",
       "      <td>0</td>\n",
       "      <td>0</td>\n",
       "      <td>1</td>\n",
       "      <td>0.1207</td>\n",
       "    </tr>\n",
       "    <tr>\n",
       "      <th>5856</th>\n",
       "      <td>0</td>\n",
       "      <td>-1</td>\n",
       "      <td>-1</td>\n",
       "      <td>1</td>\n",
       "      <td>0</td>\n",
       "      <td>0</td>\n",
       "      <td>0</td>\n",
       "      <td>0</td>\n",
       "      <td>2</td>\n",
       "      <td>0.1359</td>\n",
       "    </tr>\n",
       "    <tr>\n",
       "      <th>5857</th>\n",
       "      <td>0</td>\n",
       "      <td>-1</td>\n",
       "      <td>-1</td>\n",
       "      <td>1</td>\n",
       "      <td>0</td>\n",
       "      <td>0</td>\n",
       "      <td>0</td>\n",
       "      <td>0</td>\n",
       "      <td>3</td>\n",
       "      <td>0.2546</td>\n",
       "    </tr>\n",
       "  </tbody>\n",
       "</table>\n",
       "<p>5858 rows × 10 columns</p>\n",
       "</div>"
      ],
      "text/plain": [
       "      Age_Group  Sex  Medicare_Type  Non-Hispanic_White  Non-Hispanic_Black  \\\n",
       "0             1   -1              0                  -1                  -1   \n",
       "1             1   -1              0                  -1                  -1   \n",
       "2             1   -1              0                  -1                  -1   \n",
       "3             1   -1              0                  -1                  -1   \n",
       "4             1   -1              1                  -1                  -1   \n",
       "...         ...  ...            ...                 ...                 ...   \n",
       "5853          0   -1             -1                   0                   1   \n",
       "5854          0   -1             -1                   0                   1   \n",
       "5855          0   -1             -1                   1                   0   \n",
       "5856          0   -1             -1                   1                   0   \n",
       "5857          0   -1             -1                   1                   0   \n",
       "\n",
       "      Hispanic  Asian_Pacific_Islander  Native_American  MCC_Group  \\\n",
       "0           -1                      -1               -1          0   \n",
       "1           -1                      -1               -1          1   \n",
       "2           -1                      -1               -1          2   \n",
       "3           -1                      -1               -1          3   \n",
       "4           -1                      -1               -1          1   \n",
       "...        ...                     ...              ...        ...   \n",
       "5853         0                       0                0          1   \n",
       "5854         0                       0                0          2   \n",
       "5855         0                       0                0          1   \n",
       "5856         0                       0                0          2   \n",
       "5857         0                       0                0          3   \n",
       "\n",
       "      Hosp_Readmsn_Rate  \n",
       "0                0.0468  \n",
       "1                0.0586  \n",
       "2                0.0908  \n",
       "3                0.2038  \n",
       "4                0.0605  \n",
       "...                 ...  \n",
       "5853             0.0000  \n",
       "5854             0.0000  \n",
       "5855             0.1207  \n",
       "5856             0.1359  \n",
       "5857             0.2546  \n",
       "\n",
       "[5858 rows x 10 columns]"
      ]
     },
     "execution_count": 125,
     "metadata": {},
     "output_type": "execute_result"
    }
   ],
   "source": [
    "mcc_dff[ml_cols[1:]]"
   ]
  },
  {
   "cell_type": "markdown",
   "id": "04e45ccf-5816-4c6a-91b3-9de07b35c3a6",
   "metadata": {},
   "source": [
    "#### Perform correlation analysis excluding groups with unknown (-1) categories"
   ]
  },
  {
   "cell_type": "code",
   "execution_count": 169,
   "id": "25b15b58-c82c-440d-b3b7-a28d74ce955e",
   "metadata": {},
   "outputs": [],
   "source": [
    "mcc_corr_df = mcc_dff[mcc_dff != -1][ml_cols[1:]].corr(method='spearman', numeric_only=True).round(2)"
   ]
  },
  {
   "cell_type": "code",
   "execution_count": 174,
   "id": "b27515a4-1005-467c-ad59-838b9976c662",
   "metadata": {},
   "outputs": [
    {
     "data": {
      "image/png": "[encoded data removed]",
      "text/plain": [
       "<Figure size 1000x500 with 1 Axes>"
      ]
     },
     "metadata": {},
     "output_type": "display_data"
    }
   ],
   "source": [
    "plt.figure(figsize=(10,5))\n",
    "ax = sns.barplot(x=mcc_corr_df.iloc[-1,:-1].index, y=mcc_corr_df.iloc[-1,:-1]);\n",
    "ax.set_xticklabels(labels=['Age', 'Sex', 'Medicare_Type', 'NH_White', 'NH_Black', 'Hispanic', 'Asian Pac. Isl.', 'Native American', 'MCC_Group'], rotation=30);\n",
    "ax.set_ylabel(\"Correlation\")\n",
    "ax.set_title(\"Correlation between Features and Hospital Readmission\");\n",
    "plt.text(-0.2,0.02,mcc_corr_df.iloc[-1,:-1].iloc[0]);\n",
    "plt.text(0.8,mcc_corr_df.iloc[-1,:-1].iloc[1]+0.02,mcc_corr_df.iloc[-1,:-1].iloc[1]);\n",
    "plt.text(1.85,mcc_corr_df.iloc[-1,:-1].iloc[2]+0.02,mcc_corr_df.iloc[-1,:-1].iloc[2]);\n",
    "plt.text(2.8,0.02,mcc_corr_df.iloc[-1,:-1].iloc[3]);\n",
    "plt.text(3.8,mcc_corr_df.iloc[-1,:-1].iloc[4]+0.02,mcc_corr_df.iloc[-1,:-1].iloc[4]);\n",
    "plt.text(4.8,mcc_corr_df.iloc[-1,:-1].iloc[5]+0.02,mcc_corr_df.iloc[-1,:-1].iloc[5]);\n",
    "plt.text(5.8,0.02,mcc_corr_df.iloc[-1,:-1].iloc[6]);\n",
    "plt.text(6.8,0.02,mcc_corr_df.iloc[-1,:-1].iloc[7]);\n",
    "plt.text(7.8,mcc_corr_df.iloc[-1,:-1].iloc[8]+0.02,mcc_corr_df.iloc[-1,:-1].iloc[8]);"
   ]
  },
  {
   "cell_type": "markdown",
   "id": "ec36308b-3f85-401e-b608-4717c5ed97e3",
   "metadata": {},
   "source": [
    "#### Define input features for ML modeling"
   ]
  },
  {
   "cell_type": "code",
   "execution_count": 179,
   "id": "dd20e03f-f9e7-4659-a379-8239604de6dc",
   "metadata": {},
   "outputs": [],
   "source": [
    "ml_input_feats = ['Age_Group', 'Sex', 'Medicare_Type', 'Non-Hispanic_White', 'Non-Hispanic_Black', 'Hispanic', 'Native_American', 'MCC_Group']"
   ]
  },
  {
   "cell_type": "markdown",
   "id": "53e97095-e8e1-4658-8ee3-e693df19e3f0",
   "metadata": {},
   "source": [
    "### Save MCC data processed for ML Modeling"
   ]
  },
  {
   "cell_type": "code",
   "execution_count": 180,
   "id": "854a5789-4e10-493a-93a9-e004d5e7512a",
   "metadata": {},
   "outputs": [],
   "source": [
    "mcc_dff.to_csv(\"ml_processed_mcc_data_2017_2018.csv\", index=False)"
   ]
  },
  {
   "cell_type": "code",
   "execution_count": 176,
   "id": "7a439e4e-4622-4346-88e5-238f46ff2720",
   "metadata": {},
   "outputs": [
    {
     "data": {
      "text/plain": [
       "Native_American\n",
       "-1    3173\n",
       " 0    2313\n",
       " 1     372\n",
       "Name: count, dtype: int64"
      ]
     },
     "execution_count": 176,
     "metadata": {},
     "output_type": "execute_result"
    }
   ],
   "source": [
    "mcc_dff['Native_American'].value_counts()"
   ]
  },
  {
   "cell_type": "code",
   "execution_count": 177,
   "id": "30589c11-e8b6-43fd-8e28-b08ab49e0c25",
   "metadata": {},
   "outputs": [
    {
     "data": {
      "text/plain": [
       "Asian_Pacific_Islander\n",
       "-1    3173\n",
       " 0    2306\n",
       " 1     379\n",
       "Name: count, dtype: int64"
      ]
     },
     "execution_count": 177,
     "metadata": {},
     "output_type": "execute_result"
    }
   ],
   "source": [
    "mcc_dff['Asian_Pacific_Islander'].value_counts()"
   ]
  },
  {
   "cell_type": "code",
   "execution_count": null,
   "id": "bd575c81-11e2-4b94-b47c-547e9525b8b3",
   "metadata": {},
   "outputs": [],
   "source": []
  }
 ],
 "metadata": {
  "kernelspec": {
   "display_name": "healthcare",
   "language": "python",
   "name": "healthcare"
  },
  "language_info": {
   "codemirror_mode": {
    "name": "ipython",
    "version": 3
   },
   "file_extension": ".py",
   "mimetype": "text/x-python",
   "name": "python",
   "nbconvert_exporter": "python",
   "pygments_lexer": "ipython3",
   "version": "3.12.3"
  }
 },
 "nbformat": 4,
 "nbformat_minor": 5
}
